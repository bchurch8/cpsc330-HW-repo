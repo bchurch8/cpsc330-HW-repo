{
 "cells": [
  {
   "cell_type": "markdown",
   "metadata": {},
   "source": [
    "# CPSC 330 - Applied Machine Learning \n",
    "\n",
    "## Homework 6: Putting it all together \n",
    "### Associated lectures: All material till lecture 13 \n",
    "\n",
    "**Due date: Wednesday, March 15, 2023 at 11:59pm**"
   ]
  },
  {
   "cell_type": "markdown",
   "metadata": {},
   "source": [
    "## Table of contents\n",
    "\n",
    "- [Submission instructions](#si)\n",
    "- [Understanding the problem](#1)\n",
    "- [Data splitting](#2)\n",
    "- [EDA](#3)\n",
    "- (Optional) [Feature engineering](#4)\n",
    "- [Preprocessing and transformations](#5)\n",
    "- [Baseline model](#6)\n",
    "- [Linear models](#7)\n",
    "- [Different classifiers](#8)\n",
    "- (Optional) [Feature selection](#9)\n",
    "- [Hyperparameter optimization](#10)\n",
    "- [Interpretation and feature importances](#11)\n",
    "- [Results on the test set](#12)\n",
    "- (Optional) [Explaining predictions](#13)\n",
    "- [Summary of the results](#14)"
   ]
  },
  {
   "cell_type": "markdown",
   "metadata": {},
   "source": [
    "## Imports "
   ]
  },
  {
   "cell_type": "code",
   "execution_count": 1,
   "metadata": {},
   "outputs": [],
   "source": [
    "import os\n",
    "\n",
    "%matplotlib inline\n",
    "import sys\n",
    "\n",
    "import matplotlib.pyplot as plt\n",
    "import numpy as np\n",
    "import pandas as pd\n",
    "import seaborn as sns\n",
    "import xgboost as xgb\n",
    "from sklearn.compose import ColumnTransformer, make_column_transformer\n",
    "from sklearn.dummy import DummyClassifier\n",
    "from sklearn.ensemble import RandomForestClassifier\n",
    "from sklearn.impute import SimpleImputer\n",
    "from sklearn.linear_model import LogisticRegression\n",
    "from sklearn.metrics import (\n",
    "    classification_report,\n",
    "    confusion_matrix,\n",
    "    f1_score,\n",
    "    make_scorer,\n",
    "    plot_confusion_matrix,\n",
    ")\n",
    "from sklearn.model_selection import (\n",
    "    GridSearchCV,\n",
    "    RandomizedSearchCV,\n",
    "    cross_val_score,\n",
    "    cross_validate,\n",
    "    train_test_split,\n",
    ")\n",
    "from sklearn.pipeline import Pipeline, make_pipeline\n",
    "from sklearn.preprocessing import OneHotEncoder, OrdinalEncoder, StandardScaler\n",
    "from sklearn.svm import SVC"
   ]
  },
  {
   "cell_type": "markdown",
   "metadata": {},
   "source": [
    "<br><br>"
   ]
  },
  {
   "cell_type": "markdown",
   "metadata": {},
   "source": [
    "## Instructions \n",
    "<hr>\n",
    "rubric={points:2}\n",
    "\n",
    "Follow the [homework submission instructions](https://github.com/UBC-CS/cpsc330-2022W2/blob/main/docs/homework_instructions.md). \n",
    "\n",
    "**You may work on this homework in a group and submit your assignment as a group.** Below are some instructions on working as a group.  \n",
    "- The maximum group size is 3. \n",
    "- Use group work as an opportunity to collaborate and learn new things from each other. \n",
    "- Be respectful to each other and make sure you understand all the concepts in the assignment well. \n",
    "- It's your responsibility to make sure that the assignment is submitted by one of the group members before the deadline. \n",
    "- You can find the instructions on how to do group submission on Gradescope [here](https://help.gradescope.com/article/m5qz2xsnjy-student-add-group-members)."
   ]
  },
  {
   "cell_type": "markdown",
   "metadata": {},
   "source": [
    "<br><br>"
   ]
  },
  {
   "cell_type": "markdown",
   "metadata": {},
   "source": [
    "## Introduction <a name=\"in\"></a>\n",
    "<hr>\n",
    "\n",
    "At this point we are at the end of supervised machine learning part of the course. So in this homework, you will be working on an open-ended mini-project, where you will put all the different things you have learned so far together to solve an interesting problem.\n",
    "\n",
    "A few notes and tips when you work on this mini-project: \n",
    "\n",
    "#### Tips\n",
    "\n",
    "1. This mini-project is open-ended, and while working on it, there might be some situations where you'll have to use your own judgment and make your own decisions (as you would be doing when you work as a data scientist). **Make sure you explain your decisions whenever necessary.** \n",
    "2. **Do not include everything you ever tried in your submission** -- it's fine just to have your final code. That said, your code should be reproducible and well-documented. For example, if you chose your hyperparameters based on some hyperparameter optimization experiment, you should leave in the code for that experiment so that someone else could re-run it and obtain the same hyperparameters, rather than mysteriously just setting the hyperparameters to some (carefully chosen) values in your code. \n",
    "3. If you realize that you are repeating a lot of code try to organize it in functions. Clear presentation of your code, experiments, and results is the key to be successful in this lab. You may use code from lecture notes or previous lab solutions with appropriate attributions. \n",
    "4. If you are having trouble running models on your laptop because of the size of the dataset, you can create your train/test split in such a way that you have less data in the train split. If you end up doing this, please write a note to the grader in the submission explaining why you are doing it.  \n",
    "\n",
    "#### Assessment\n",
    "\n",
    "We plan to grade fairly and leniently. We don't have some secret target score that you need to achieve to get a good grade. **You'll be assessed on demonstration of mastery of course topics, clear presentation, and the quality of your analysis and results.** For example, if you just have a bunch of code and no text or figures, that's not good. If you do a bunch of sane things and get a lower accuracy than your friend, don't sweat it.\n",
    "\n",
    "#### A final note\n",
    "\n",
    "Finally, this style of this \"project\" question is different from other assignments. It'll be up to you to decide when you're \"done\" -- in fact, this is one of the hardest parts of real projects. But please don't spend WAY too much time on this... perhaps \"a few hours\" (2-8 hours???) is a good guideline for a typical submission. Of course if you're having fun you're welcome to spend as much time as you want! But, if so, try not to do it out of perfectionism or getting the best possible grade. Do it because you're learning and enjoying it. Students from the past cohorts have found such kind of labs useful and fun and I hope you enjoy it as well. "
   ]
  },
  {
   "cell_type": "markdown",
   "metadata": {},
   "source": [
    "<br><br>"
   ]
  },
  {
   "cell_type": "markdown",
   "metadata": {},
   "source": [
    "## 1. Understanding the problem <a name=\"1\"></a>\n",
    "<hr>\n",
    "rubric={points:4}\n",
    "\n",
    "In this mini project, you will be working on a classification problem of predicting whether a customer will cancel the reservation they have made at a hotel. \n",
    "For this problem, you will use [Reservation Cancellation Prediction Dataset](https://www.kaggle.com/datasets/gauravduttakiit/reservation-cancellation-prediction?select=train__dataset.csv). In this data set, there are about 18.000 examples and 18 features (including the target), and the goal is to estimate whether a person will cancel their booking; this column is labeled \"booking_status\" in the data (1 = canceled). \n",
    "\n",
    "**Your tasks:**\n",
    "\n",
    "1. Spend some time understanding the problem and what each feature means. You can find this information in the documentation on [the dataset page on Kaggle](https://www.kaggle.com/datasets/gauravduttakiit/reservation-cancellation-prediction?select=train__dataset.csv). Write a few sentences on your initial thoughts on the problem and the dataset. \n",
    "2. Download the dataset and read it as a pandas dataframe. "
   ]
  },
  {
   "cell_type": "markdown",
   "metadata": {},
   "source": [
    "1. \n",
    "Looking at the problem and dataset, my initial thoughts are that there are going to broadly be two types of cancellations: predictable and un-predictable. A predictable cancellation is one that the data in the dataset could potentially help predict. For example, if the customer is travelling alone, booked shortly before the arrival date, and is only staying a few nights it may be predictable that they cancel. This person could be travelling for business and have plans change often and as such cancel hotels fairly routinely as their travel plans change. On the other hand, if the customer is travelling with children or a large group, booked far in advance, and has made several special requests for their room they might be less likely to cancel as this is probably a vacation or larger trip that was planned well in advance, which often isn't cancelled once booked. However, the data will never be able to help \"un-predictable\" cancellations as these are caused by factors completely irrelevant to the booking itself. For example, even though a family may have booked a vacation many months in advance, they may still have to cancel last-minute because of a health emergency or something similar.  As such, it seems like there will always be a limit to how accurate our model can be because it will not be able to predict these external factors."
   ]
  },
  {
   "cell_type": "code",
   "execution_count": 2,
   "metadata": {},
   "outputs": [
    {
     "data": {
      "text/html": "<div>\n<style scoped>\n    .dataframe tbody tr th:only-of-type {\n        vertical-align: middle;\n    }\n\n    .dataframe tbody tr th {\n        vertical-align: top;\n    }\n\n    .dataframe thead th {\n        text-align: right;\n    }\n</style>\n<table border=\"1\" class=\"dataframe\">\n  <thead>\n    <tr style=\"text-align: right;\">\n      <th></th>\n      <th>no_of_adults</th>\n      <th>no_of_children</th>\n      <th>no_of_weekend_nights</th>\n      <th>no_of_week_nights</th>\n      <th>type_of_meal_plan</th>\n      <th>required_car_parking_space</th>\n      <th>room_type_reserved</th>\n      <th>lead_time</th>\n      <th>arrival_year</th>\n      <th>arrival_month</th>\n      <th>arrival_date</th>\n      <th>market_segment_type</th>\n      <th>repeated_guest</th>\n      <th>no_of_previous_cancellations</th>\n      <th>no_of_previous_bookings_not_canceled</th>\n      <th>avg_price_per_room</th>\n      <th>no_of_special_requests</th>\n      <th>booking_status</th>\n    </tr>\n  </thead>\n  <tbody>\n    <tr>\n      <th>0</th>\n      <td>2</td>\n      <td>0</td>\n      <td>1</td>\n      <td>4</td>\n      <td>0</td>\n      <td>0</td>\n      <td>0</td>\n      <td>118</td>\n      <td>2017</td>\n      <td>12</td>\n      <td>28</td>\n      <td>1</td>\n      <td>0</td>\n      <td>0</td>\n      <td>0</td>\n      <td>110.80</td>\n      <td>2</td>\n      <td>0</td>\n    </tr>\n    <tr>\n      <th>1</th>\n      <td>2</td>\n      <td>1</td>\n      <td>0</td>\n      <td>2</td>\n      <td>0</td>\n      <td>0</td>\n      <td>0</td>\n      <td>17</td>\n      <td>2018</td>\n      <td>4</td>\n      <td>14</td>\n      <td>1</td>\n      <td>0</td>\n      <td>0</td>\n      <td>0</td>\n      <td>145.00</td>\n      <td>0</td>\n      <td>1</td>\n    </tr>\n    <tr>\n      <th>2</th>\n      <td>1</td>\n      <td>0</td>\n      <td>1</td>\n      <td>5</td>\n      <td>0</td>\n      <td>0</td>\n      <td>0</td>\n      <td>349</td>\n      <td>2018</td>\n      <td>10</td>\n      <td>4</td>\n      <td>0</td>\n      <td>0</td>\n      <td>0</td>\n      <td>0</td>\n      <td>96.67</td>\n      <td>0</td>\n      <td>1</td>\n    </tr>\n    <tr>\n      <th>3</th>\n      <td>1</td>\n      <td>0</td>\n      <td>2</td>\n      <td>4</td>\n      <td>0</td>\n      <td>0</td>\n      <td>0</td>\n      <td>69</td>\n      <td>2018</td>\n      <td>6</td>\n      <td>12</td>\n      <td>0</td>\n      <td>0</td>\n      <td>0</td>\n      <td>0</td>\n      <td>120.00</td>\n      <td>0</td>\n      <td>1</td>\n    </tr>\n    <tr>\n      <th>4</th>\n      <td>2</td>\n      <td>0</td>\n      <td>0</td>\n      <td>4</td>\n      <td>1</td>\n      <td>0</td>\n      <td>0</td>\n      <td>11</td>\n      <td>2018</td>\n      <td>1</td>\n      <td>20</td>\n      <td>1</td>\n      <td>0</td>\n      <td>0</td>\n      <td>0</td>\n      <td>69.50</td>\n      <td>1</td>\n      <td>0</td>\n    </tr>\n  </tbody>\n</table>\n</div>",
      "text/plain": "   no_of_adults  no_of_children  no_of_weekend_nights  no_of_week_nights  \\\n0             2               0                     1                  4   \n1             2               1                     0                  2   \n2             1               0                     1                  5   \n3             1               0                     2                  4   \n4             2               0                     0                  4   \n\n   type_of_meal_plan  required_car_parking_space  room_type_reserved  \\\n0                  0                           0                   0   \n1                  0                           0                   0   \n2                  0                           0                   0   \n3                  0                           0                   0   \n4                  1                           0                   0   \n\n   lead_time  arrival_year  arrival_month  arrival_date  market_segment_type  \\\n0        118          2017             12            28                    1   \n1         17          2018              4            14                    1   \n2        349          2018             10             4                    0   \n3         69          2018              6            12                    0   \n4         11          2018              1            20                    1   \n\n   repeated_guest  no_of_previous_cancellations  \\\n0               0                             0   \n1               0                             0   \n2               0                             0   \n3               0                             0   \n4               0                             0   \n\n   no_of_previous_bookings_not_canceled  avg_price_per_room  \\\n0                                     0              110.80   \n1                                     0              145.00   \n2                                     0               96.67   \n3                                     0              120.00   \n4                                     0               69.50   \n\n   no_of_special_requests  booking_status  \n0                       2               0  \n1                       0               1  \n2                       0               1  \n3                       0               1  \n4                       1               0  "
     },
     "execution_count": 2,
     "metadata": {},
     "output_type": "execute_result"
    }
   ],
   "source": [
    "df = pd.read_csv(\"./res_cancel.csv\")\n",
    "df.head()"
   ]
  },
  {
   "cell_type": "markdown",
   "metadata": {},
   "source": [
    "<br><br>"
   ]
  },
  {
   "cell_type": "markdown",
   "metadata": {},
   "source": [
    "## 2. Data splitting <a name=\"2\"></a>\n",
    "<hr>\n",
    "rubric={points:2}\n",
    "\n",
    "**Your tasks:**\n",
    "\n",
    "1. Split the data into train and test portions. "
   ]
  },
  {
   "cell_type": "code",
   "execution_count": 3,
   "metadata": {},
   "outputs": [
    {
     "name": "stdout",
     "output_type": "stream",
     "text": [
      "(14509, 18) (3628, 18)\n"
     ]
    }
   ],
   "source": [
    "train_df, test_df = train_test_split(df, test_size=0.2)\n",
    "print(train_df.shape, test_df.shape)"
   ]
  },
  {
   "cell_type": "markdown",
   "metadata": {},
   "source": [
    "<br><br>"
   ]
  },
  {
   "cell_type": "markdown",
   "metadata": {},
   "source": [
    "## 3. EDA <a name=\"3\"></a>\n",
    "<hr>\n",
    "rubric={points:10}\n",
    "\n",
    "**Your tasks:**\n",
    "\n",
    "1. Perform exploratory data analysis on the train set.\n",
    "2. Include at least two summary statistics and two visualizations that you find useful, and accompany each one with a sentence explaining it.\n",
    "3. Summarize your initial observations about the data. \n",
    "4. Pick appropriate metric/metrics for assessment. "
   ]
  },
  {
   "cell_type": "code",
   "execution_count": 4,
   "metadata": {},
   "outputs": [
    {
     "name": "stdout",
     "output_type": "stream",
     "text": [
      "<class 'pandas.core.frame.DataFrame'>\n",
      "Int64Index: 14509 entries, 12617 to 9872\n",
      "Data columns (total 18 columns):\n",
      " #   Column                                Non-Null Count  Dtype  \n",
      "---  ------                                --------------  -----  \n",
      " 0   no_of_adults                          14509 non-null  int64  \n",
      " 1   no_of_children                        14509 non-null  int64  \n",
      " 2   no_of_weekend_nights                  14509 non-null  int64  \n",
      " 3   no_of_week_nights                     14509 non-null  int64  \n",
      " 4   type_of_meal_plan                     14509 non-null  int64  \n",
      " 5   required_car_parking_space            14509 non-null  int64  \n",
      " 6   room_type_reserved                    14509 non-null  int64  \n",
      " 7   lead_time                             14509 non-null  int64  \n",
      " 8   arrival_year                          14509 non-null  int64  \n",
      " 9   arrival_month                         14509 non-null  int64  \n",
      " 10  arrival_date                          14509 non-null  int64  \n",
      " 11  market_segment_type                   14509 non-null  int64  \n",
      " 12  repeated_guest                        14509 non-null  int64  \n",
      " 13  no_of_previous_cancellations          14509 non-null  int64  \n",
      " 14  no_of_previous_bookings_not_canceled  14509 non-null  int64  \n",
      " 15  avg_price_per_room                    14509 non-null  float64\n",
      " 16  no_of_special_requests                14509 non-null  int64  \n",
      " 17  booking_status                        14509 non-null  int64  \n",
      "dtypes: float64(1), int64(17)\n",
      "memory usage: 2.1 MB\n"
     ]
    }
   ],
   "source": [
    "train_df.info()"
   ]
  },
  {
   "cell_type": "markdown",
   "metadata": {},
   "source": [
    "Looking at the above summary information, we can see that there are no missing entries therefore we will not have to impute any features. Additionally, all of the datatypes are either integer or float but looking at the description of some classes (such as type_of_meal_plan), it looks like some of these integer features actually represent categorical data."
   ]
  },
  {
   "cell_type": "code",
   "execution_count": 5,
   "metadata": {},
   "outputs": [
    {
     "data": {
      "text/html": "<div>\n<style scoped>\n    .dataframe tbody tr th:only-of-type {\n        vertical-align: middle;\n    }\n\n    .dataframe tbody tr th {\n        vertical-align: top;\n    }\n\n    .dataframe thead th {\n        text-align: right;\n    }\n</style>\n<table border=\"1\" class=\"dataframe\">\n  <thead>\n    <tr style=\"text-align: right;\">\n      <th></th>\n      <th>no_of_adults</th>\n      <th>no_of_children</th>\n      <th>no_of_weekend_nights</th>\n      <th>no_of_week_nights</th>\n      <th>type_of_meal_plan</th>\n      <th>required_car_parking_space</th>\n      <th>room_type_reserved</th>\n      <th>lead_time</th>\n      <th>arrival_year</th>\n      <th>arrival_month</th>\n      <th>arrival_date</th>\n      <th>market_segment_type</th>\n      <th>repeated_guest</th>\n      <th>no_of_previous_cancellations</th>\n      <th>no_of_previous_bookings_not_canceled</th>\n      <th>avg_price_per_room</th>\n      <th>no_of_special_requests</th>\n      <th>booking_status</th>\n    </tr>\n  </thead>\n  <tbody>\n    <tr>\n      <th>count</th>\n      <td>14509.000000</td>\n      <td>14509.000000</td>\n      <td>14509.000000</td>\n      <td>14509.000000</td>\n      <td>14509.000000</td>\n      <td>14509.000000</td>\n      <td>14509.000000</td>\n      <td>14509.000000</td>\n      <td>14509.000000</td>\n      <td>14509.000000</td>\n      <td>14509.000000</td>\n      <td>14509.000000</td>\n      <td>14509.000000</td>\n      <td>14509.000000</td>\n      <td>14509.000000</td>\n      <td>14509.000000</td>\n      <td>14509.000000</td>\n      <td>14509.000000</td>\n    </tr>\n    <tr>\n      <th>mean</th>\n      <td>1.845062</td>\n      <td>0.108622</td>\n      <td>0.807361</td>\n      <td>2.217520</td>\n      <td>0.319250</td>\n      <td>0.031567</td>\n      <td>0.338962</td>\n      <td>85.756358</td>\n      <td>2017.820181</td>\n      <td>7.441381</td>\n      <td>15.594734</td>\n      <td>0.803777</td>\n      <td>0.025432</td>\n      <td>0.024674</td>\n      <td>0.158040</td>\n      <td>103.424656</td>\n      <td>0.609966</td>\n      <td>0.327865</td>\n    </tr>\n    <tr>\n      <th>std</th>\n      <td>0.515656</td>\n      <td>0.414016</td>\n      <td>0.873063</td>\n      <td>1.432362</td>\n      <td>0.630602</td>\n      <td>0.174849</td>\n      <td>0.782308</td>\n      <td>87.209135</td>\n      <td>0.384050</td>\n      <td>3.077948</td>\n      <td>8.791692</td>\n      <td>0.647595</td>\n      <td>0.157440</td>\n      <td>0.396703</td>\n      <td>1.770399</td>\n      <td>35.633322</td>\n      <td>0.783840</td>\n      <td>0.469452</td>\n    </tr>\n    <tr>\n      <th>min</th>\n      <td>0.000000</td>\n      <td>0.000000</td>\n      <td>0.000000</td>\n      <td>0.000000</td>\n      <td>0.000000</td>\n      <td>0.000000</td>\n      <td>0.000000</td>\n      <td>0.000000</td>\n      <td>2017.000000</td>\n      <td>1.000000</td>\n      <td>1.000000</td>\n      <td>0.000000</td>\n      <td>0.000000</td>\n      <td>0.000000</td>\n      <td>0.000000</td>\n      <td>0.000000</td>\n      <td>0.000000</td>\n      <td>0.000000</td>\n    </tr>\n    <tr>\n      <th>25%</th>\n      <td>2.000000</td>\n      <td>0.000000</td>\n      <td>0.000000</td>\n      <td>1.000000</td>\n      <td>0.000000</td>\n      <td>0.000000</td>\n      <td>0.000000</td>\n      <td>16.000000</td>\n      <td>2018.000000</td>\n      <td>5.000000</td>\n      <td>8.000000</td>\n      <td>0.000000</td>\n      <td>0.000000</td>\n      <td>0.000000</td>\n      <td>0.000000</td>\n      <td>80.100000</td>\n      <td>0.000000</td>\n      <td>0.000000</td>\n    </tr>\n    <tr>\n      <th>50%</th>\n      <td>2.000000</td>\n      <td>0.000000</td>\n      <td>1.000000</td>\n      <td>2.000000</td>\n      <td>0.000000</td>\n      <td>0.000000</td>\n      <td>0.000000</td>\n      <td>57.000000</td>\n      <td>2018.000000</td>\n      <td>8.000000</td>\n      <td>16.000000</td>\n      <td>1.000000</td>\n      <td>0.000000</td>\n      <td>0.000000</td>\n      <td>0.000000</td>\n      <td>99.450000</td>\n      <td>0.000000</td>\n      <td>0.000000</td>\n    </tr>\n    <tr>\n      <th>75%</th>\n      <td>2.000000</td>\n      <td>0.000000</td>\n      <td>2.000000</td>\n      <td>3.000000</td>\n      <td>0.000000</td>\n      <td>0.000000</td>\n      <td>0.000000</td>\n      <td>128.000000</td>\n      <td>2018.000000</td>\n      <td>10.000000</td>\n      <td>23.000000</td>\n      <td>1.000000</td>\n      <td>0.000000</td>\n      <td>0.000000</td>\n      <td>0.000000</td>\n      <td>120.120000</td>\n      <td>1.000000</td>\n      <td>1.000000</td>\n    </tr>\n    <tr>\n      <th>max</th>\n      <td>4.000000</td>\n      <td>9.000000</td>\n      <td>7.000000</td>\n      <td>17.000000</td>\n      <td>3.000000</td>\n      <td>1.000000</td>\n      <td>6.000000</td>\n      <td>443.000000</td>\n      <td>2018.000000</td>\n      <td>12.000000</td>\n      <td>31.000000</td>\n      <td>4.000000</td>\n      <td>1.000000</td>\n      <td>13.000000</td>\n      <td>58.000000</td>\n      <td>540.000000</td>\n      <td>5.000000</td>\n      <td>1.000000</td>\n    </tr>\n  </tbody>\n</table>\n</div>",
      "text/plain": "       no_of_adults  no_of_children  no_of_weekend_nights  no_of_week_nights  \\\ncount  14509.000000    14509.000000          14509.000000       14509.000000   \nmean       1.845062        0.108622              0.807361           2.217520   \nstd        0.515656        0.414016              0.873063           1.432362   \nmin        0.000000        0.000000              0.000000           0.000000   \n25%        2.000000        0.000000              0.000000           1.000000   \n50%        2.000000        0.000000              1.000000           2.000000   \n75%        2.000000        0.000000              2.000000           3.000000   \nmax        4.000000        9.000000              7.000000          17.000000   \n\n       type_of_meal_plan  required_car_parking_space  room_type_reserved  \\\ncount       14509.000000                14509.000000        14509.000000   \nmean            0.319250                    0.031567            0.338962   \nstd             0.630602                    0.174849            0.782308   \nmin             0.000000                    0.000000            0.000000   \n25%             0.000000                    0.000000            0.000000   \n50%             0.000000                    0.000000            0.000000   \n75%             0.000000                    0.000000            0.000000   \nmax             3.000000                    1.000000            6.000000   \n\n          lead_time  arrival_year  arrival_month  arrival_date  \\\ncount  14509.000000  14509.000000   14509.000000  14509.000000   \nmean      85.756358   2017.820181       7.441381     15.594734   \nstd       87.209135      0.384050       3.077948      8.791692   \nmin        0.000000   2017.000000       1.000000      1.000000   \n25%       16.000000   2018.000000       5.000000      8.000000   \n50%       57.000000   2018.000000       8.000000     16.000000   \n75%      128.000000   2018.000000      10.000000     23.000000   \nmax      443.000000   2018.000000      12.000000     31.000000   \n\n       market_segment_type  repeated_guest  no_of_previous_cancellations  \\\ncount         14509.000000    14509.000000                  14509.000000   \nmean              0.803777        0.025432                      0.024674   \nstd               0.647595        0.157440                      0.396703   \nmin               0.000000        0.000000                      0.000000   \n25%               0.000000        0.000000                      0.000000   \n50%               1.000000        0.000000                      0.000000   \n75%               1.000000        0.000000                      0.000000   \nmax               4.000000        1.000000                     13.000000   \n\n       no_of_previous_bookings_not_canceled  avg_price_per_room  \\\ncount                          14509.000000        14509.000000   \nmean                               0.158040          103.424656   \nstd                                1.770399           35.633322   \nmin                                0.000000            0.000000   \n25%                                0.000000           80.100000   \n50%                                0.000000           99.450000   \n75%                                0.000000          120.120000   \nmax                               58.000000          540.000000   \n\n       no_of_special_requests  booking_status  \ncount            14509.000000    14509.000000  \nmean                 0.609966        0.327865  \nstd                  0.783840        0.469452  \nmin                  0.000000        0.000000  \n25%                  0.000000        0.000000  \n50%                  0.000000        0.000000  \n75%                  1.000000        1.000000  \nmax                  5.000000        1.000000  "
     },
     "execution_count": 5,
     "metadata": {},
     "output_type": "execute_result"
    }
   ],
   "source": [
    "train_df.describe()"
   ]
  },
  {
   "cell_type": "code",
   "execution_count": 6,
   "metadata": {},
   "outputs": [
    {
     "data": {
      "text/html": "<div>\n<style scoped>\n    .dataframe tbody tr th:only-of-type {\n        vertical-align: middle;\n    }\n\n    .dataframe tbody tr th {\n        vertical-align: top;\n    }\n\n    .dataframe thead th {\n        text-align: right;\n    }\n</style>\n<table border=\"1\" class=\"dataframe\">\n  <thead>\n    <tr style=\"text-align: right;\">\n      <th></th>\n      <th>no_of_adults</th>\n      <th>no_of_children</th>\n      <th>no_of_weekend_nights</th>\n      <th>no_of_week_nights</th>\n      <th>type_of_meal_plan</th>\n      <th>required_car_parking_space</th>\n      <th>room_type_reserved</th>\n      <th>lead_time</th>\n      <th>arrival_year</th>\n      <th>arrival_month</th>\n      <th>arrival_date</th>\n      <th>market_segment_type</th>\n      <th>repeated_guest</th>\n      <th>no_of_previous_cancellations</th>\n      <th>no_of_previous_bookings_not_canceled</th>\n      <th>avg_price_per_room</th>\n      <th>no_of_special_requests</th>\n      <th>booking_status</th>\n    </tr>\n  </thead>\n  <tbody>\n    <tr>\n      <th>10977</th>\n      <td>1</td>\n      <td>0</td>\n      <td>1</td>\n      <td>3</td>\n      <td>0</td>\n      <td>0</td>\n      <td>1</td>\n      <td>32</td>\n      <td>2018</td>\n      <td>10</td>\n      <td>10</td>\n      <td>1</td>\n      <td>0</td>\n      <td>0</td>\n      <td>0</td>\n      <td>148.28</td>\n      <td>0</td>\n      <td>1</td>\n    </tr>\n    <tr>\n      <th>12945</th>\n      <td>2</td>\n      <td>0</td>\n      <td>2</td>\n      <td>4</td>\n      <td>0</td>\n      <td>0</td>\n      <td>0</td>\n      <td>224</td>\n      <td>2018</td>\n      <td>9</td>\n      <td>4</td>\n      <td>1</td>\n      <td>0</td>\n      <td>0</td>\n      <td>0</td>\n      <td>114.90</td>\n      <td>1</td>\n      <td>1</td>\n    </tr>\n    <tr>\n      <th>17599</th>\n      <td>3</td>\n      <td>0</td>\n      <td>2</td>\n      <td>5</td>\n      <td>0</td>\n      <td>0</td>\n      <td>1</td>\n      <td>149</td>\n      <td>2018</td>\n      <td>6</td>\n      <td>4</td>\n      <td>1</td>\n      <td>0</td>\n      <td>0</td>\n      <td>0</td>\n      <td>144.14</td>\n      <td>1</td>\n      <td>1</td>\n    </tr>\n    <tr>\n      <th>12791</th>\n      <td>1</td>\n      <td>0</td>\n      <td>1</td>\n      <td>2</td>\n      <td>0</td>\n      <td>0</td>\n      <td>0</td>\n      <td>114</td>\n      <td>2018</td>\n      <td>7</td>\n      <td>1</td>\n      <td>0</td>\n      <td>0</td>\n      <td>0</td>\n      <td>0</td>\n      <td>75.00</td>\n      <td>0</td>\n      <td>1</td>\n    </tr>\n    <tr>\n      <th>7987</th>\n      <td>1</td>\n      <td>0</td>\n      <td>1</td>\n      <td>4</td>\n      <td>0</td>\n      <td>0</td>\n      <td>0</td>\n      <td>113</td>\n      <td>2018</td>\n      <td>9</td>\n      <td>7</td>\n      <td>1</td>\n      <td>0</td>\n      <td>0</td>\n      <td>0</td>\n      <td>118.80</td>\n      <td>0</td>\n      <td>1</td>\n    </tr>\n  </tbody>\n</table>\n</div>",
      "text/plain": "       no_of_adults  no_of_children  no_of_weekend_nights  no_of_week_nights  \\\n10977             1               0                     1                  3   \n12945             2               0                     2                  4   \n17599             3               0                     2                  5   \n12791             1               0                     1                  2   \n7987              1               0                     1                  4   \n\n       type_of_meal_plan  required_car_parking_space  room_type_reserved  \\\n10977                  0                           0                   1   \n12945                  0                           0                   0   \n17599                  0                           0                   1   \n12791                  0                           0                   0   \n7987                   0                           0                   0   \n\n       lead_time  arrival_year  arrival_month  arrival_date  \\\n10977         32          2018             10            10   \n12945        224          2018              9             4   \n17599        149          2018              6             4   \n12791        114          2018              7             1   \n7987         113          2018              9             7   \n\n       market_segment_type  repeated_guest  no_of_previous_cancellations  \\\n10977                    1               0                             0   \n12945                    1               0                             0   \n17599                    1               0                             0   \n12791                    0               0                             0   \n7987                     1               0                             0   \n\n       no_of_previous_bookings_not_canceled  avg_price_per_room  \\\n10977                                     0              148.28   \n12945                                     0              114.90   \n17599                                     0              144.14   \n12791                                     0               75.00   \n7987                                      0              118.80   \n\n       no_of_special_requests  booking_status  \n10977                       0               1  \n12945                       1               1  \n17599                       1               1  \n12791                       0               1  \n7987                        0               1  "
     },
     "execution_count": 6,
     "metadata": {},
     "output_type": "execute_result"
    }
   ],
   "source": [
    "cancel = train_df.query(\"booking_status == 1\")\n",
    "not_cancel = train_df.query(\"booking_status == 0\")\n",
    "\n",
    "cancel.head()"
   ]
  },
  {
   "cell_type": "code",
   "execution_count": 7,
   "metadata": {},
   "outputs": [
    {
     "data": {
      "text/plain": "32.78654628161831"
     },
     "execution_count": 7,
     "metadata": {},
     "output_type": "execute_result"
    }
   ],
   "source": [
    "perc_cancel = cancel.shape[0] / train_df.shape[0] * 100\n",
    "perc_cancel\n"
   ]
  },
  {
   "cell_type": "markdown",
   "metadata": {},
   "source": [
    "We can see that 32.6% of the total reservations in the train data set cancelled. This statistic tells us that there is a moderate class imbalance between our two target classes and this problem could be considered a spotting problem (albeit with less class imbalance than other examples)."
   ]
  },
  {
   "cell_type": "code",
   "execution_count": 8,
   "metadata": {},
   "outputs": [
    {
     "data": {
      "image/png": "[encoded data removed]",
      "text/plain": "<Figure size 640x480 with 1 Axes>"
     },
     "metadata": {},
     "output_type": "display_data"
    },
    {
     "data": {
      "image/png": "[encoded data removed]",
      "text/plain": "<Figure size 640x480 with 1 Axes>"
     },
     "metadata": {},
     "output_type": "display_data"
    }
   ],
   "source": [
    "numeric_feats = [\"lead_time\", \"avg_price_per_room\"]\n",
    "num_bins = 30\n",
    "\n",
    "#Taken from HW3 implementation\n",
    "for col in numeric_feats:\n",
    "    axes = cancel[[col]].hist(bins = num_bins, alpha = 0.5, label=\"Cancelled\")[0][0]\n",
    "    axes.hist(not_cancel[[col]], bins = num_bins, alpha = 0.5, label=\"Not-Cancel\")\n",
    "\n",
    "    plt.legend(loc = \"upper right\")\n",
    "    plt.title(\"Histogram of \" + col + \" by Cancellation\")\n",
    "    plt.xlabel(col)\n",
    "    plt.ylabel(\"count\")\n",
    "    plt.show()"
   ]
  },
  {
   "cell_type": "markdown",
   "metadata": {},
   "source": [
    "Looking at the above histograms of numeric features we can see that lead_time will most likely be a useful feature as there are many more non-cancellations for low lead times (~ < 150), but more cancellations than non-cancellations for longer lead times (~ > 150). The average room price histogram shows that the distributions are fairly similar, but there are fewer cancellations for rooms less than $100 and slightly more cancellations above $100."
   ]
  },
  {
   "cell_type": "code",
   "execution_count": 9,
   "metadata": {},
   "outputs": [
    {
     "name": "stdout",
     "output_type": "stream",
     "text": [
      "Unique values in  no_of_adults  are:  [0 1 2 3 4]\n",
      "Unique values in  no_of_children  are:  [0 1 2 3 9]\n",
      "Unique values in  no_of_weekend_nights  are:  [0 1 2 3 4 5 6 7]\n",
      "Unique values in  no_of_week_nights  are:  [ 0  1  2  3  4  5  6  7  8  9 10 11 12 13 14 15 16 17]\n",
      "Unique values in  type_of_meal_plan  are:  [0 1 2 3]\n",
      "Unique values in  required_car_parking_space  are:  [0 1]\n",
      "Unique values in  room_type_reserved  are:  [0 1 2 3 4 5 6]\n",
      "Unique values in  arrival_year  are:  [2017 2018]\n",
      "Unique values in  arrival_month  are:  [ 1  2  3  4  5  6  7  8  9 10 11 12]\n",
      "Unique values in  arrival_date  are:  [ 1  2  3  4  5  6  7  8  9 10 11 12 13 14 15 16 17 18 19 20 21 22 23 24\n",
      " 25 26 27 28 29 30 31]\n",
      "Unique values in  market_segment_type  are:  [0 1 2 3 4]\n",
      "Unique values in  repeated_guest  are:  [0 1]\n",
      "Unique values in  no_of_special_requests  are:  [0 1 2 3 4 5]\n",
      "Unique values in  no_of_previous_cancellations  are:  [ 0  1  2  3  4  5  6 11 13]\n",
      "Unique values in  no_of_previous_bookings_not_canceled  are:  [ 0  1  2  3  4  5  6  7  8  9 10 11 12 13 14 15 16 17 18 19 20 21 22 23\n",
      " 24 25 26 27 30 31 32 33 34 35 36 37 43 44 45 47 48 50 51 58]\n"
     ]
    }
   ],
   "source": [
    "categorical_feats = [\"no_of_adults\",\"no_of_children\", \"no_of_weekend_nights\", \"no_of_week_nights\", \"type_of_meal_plan\", \"required_car_parking_space\", \"room_type_reserved\",\n",
    "\"arrival_year\", \"arrival_month\", \"arrival_date\", \"market_segment_type\", \"repeated_guest\", \"no_of_special_requests\", \"no_of_previous_cancellations\", \"no_of_previous_bookings_not_canceled\"]\n",
    "\n",
    "for feat in categorical_feats:\n",
    "    print(\"Unique values in \", feat, \" are: \", np.sort(train_df[feat].unique()))\n"
   ]
  },
  {
   "cell_type": "markdown",
   "metadata": {},
   "source": [
    "The majority of our features have integer data types, but some of these features are categorical or ordinal. Looking at the unique values within each feature can help us determine which category the data falls into. For example, room_type_reserved has an integer datatype but each integer represents a different room type as defined by INN Hotels so this data is actually categorical. Some of the integer features which take a small, finite set of values could also be considered ordinal. For example, no_of_adults only takes value from 0 to 4 and there is a clear ordered relation between consecutive values so we could treat this feature as ordinal instead of numeric."
   ]
  },
  {
   "cell_type": "code",
   "execution_count": 10,
   "metadata": {},
   "outputs": [
    {
     "data": {
      "image/png": "[encoded data removed]",
      "text/plain": "<Figure size 640x480 with 1 Axes>"
     },
     "metadata": {},
     "output_type": "display_data"
    },
    {
     "data": {
      "image/png": "[encoded data removed]",
      "text/plain": "<Figure size 640x480 with 1 Axes>"
     },
     "metadata": {},
     "output_type": "display_data"
    },
    {
     "data": {
      "text/html": "<div>\n<style scoped>\n    .dataframe tbody tr th:only-of-type {\n        vertical-align: middle;\n    }\n\n    .dataframe tbody tr th {\n        vertical-align: top;\n    }\n\n    .dataframe thead th {\n        text-align: right;\n    }\n</style>\n<table border=\"1\" class=\"dataframe\">\n  <thead>\n    <tr style=\"text-align: right;\">\n      <th></th>\n      <th>no_of_adults</th>\n      <th>no_of_children</th>\n      <th>no_of_weekend_nights</th>\n      <th>no_of_week_nights</th>\n      <th>type_of_meal_plan</th>\n      <th>required_car_parking_space</th>\n      <th>room_type_reserved</th>\n      <th>lead_time</th>\n      <th>arrival_year</th>\n      <th>arrival_month</th>\n      <th>arrival_date</th>\n      <th>market_segment_type</th>\n      <th>repeated_guest</th>\n      <th>no_of_previous_cancellations</th>\n      <th>no_of_previous_bookings_not_canceled</th>\n      <th>avg_price_per_room</th>\n      <th>no_of_special_requests</th>\n      <th>booking_status</th>\n    </tr>\n  </thead>\n  <tbody>\n    <tr>\n      <th>10977</th>\n      <td>1</td>\n      <td>0</td>\n      <td>1</td>\n      <td>3</td>\n      <td>0</td>\n      <td>0</td>\n      <td>1</td>\n      <td>32</td>\n      <td>2018</td>\n      <td>10</td>\n      <td>10</td>\n      <td>1</td>\n      <td>0</td>\n      <td>0</td>\n      <td>0</td>\n      <td>148.28</td>\n      <td>0</td>\n      <td>1</td>\n    </tr>\n    <tr>\n      <th>12945</th>\n      <td>2</td>\n      <td>0</td>\n      <td>2</td>\n      <td>4</td>\n      <td>0</td>\n      <td>0</td>\n      <td>0</td>\n      <td>224</td>\n      <td>2018</td>\n      <td>9</td>\n      <td>4</td>\n      <td>1</td>\n      <td>0</td>\n      <td>0</td>\n      <td>0</td>\n      <td>114.90</td>\n      <td>1</td>\n      <td>1</td>\n    </tr>\n    <tr>\n      <th>17599</th>\n      <td>3</td>\n      <td>0</td>\n      <td>2</td>\n      <td>5</td>\n      <td>0</td>\n      <td>0</td>\n      <td>1</td>\n      <td>149</td>\n      <td>2018</td>\n      <td>6</td>\n      <td>4</td>\n      <td>1</td>\n      <td>0</td>\n      <td>0</td>\n      <td>0</td>\n      <td>144.14</td>\n      <td>1</td>\n      <td>1</td>\n    </tr>\n    <tr>\n      <th>12791</th>\n      <td>1</td>\n      <td>0</td>\n      <td>1</td>\n      <td>2</td>\n      <td>0</td>\n      <td>0</td>\n      <td>0</td>\n      <td>114</td>\n      <td>2018</td>\n      <td>7</td>\n      <td>1</td>\n      <td>0</td>\n      <td>0</td>\n      <td>0</td>\n      <td>0</td>\n      <td>75.00</td>\n      <td>0</td>\n      <td>1</td>\n    </tr>\n    <tr>\n      <th>7987</th>\n      <td>1</td>\n      <td>0</td>\n      <td>1</td>\n      <td>4</td>\n      <td>0</td>\n      <td>0</td>\n      <td>0</td>\n      <td>113</td>\n      <td>2018</td>\n      <td>9</td>\n      <td>7</td>\n      <td>1</td>\n      <td>0</td>\n      <td>0</td>\n      <td>0</td>\n      <td>118.80</td>\n      <td>0</td>\n      <td>1</td>\n    </tr>\n    <tr>\n      <th>...</th>\n      <td>...</td>\n      <td>...</td>\n      <td>...</td>\n      <td>...</td>\n      <td>...</td>\n      <td>...</td>\n      <td>...</td>\n      <td>...</td>\n      <td>...</td>\n      <td>...</td>\n      <td>...</td>\n      <td>...</td>\n      <td>...</td>\n      <td>...</td>\n      <td>...</td>\n      <td>...</td>\n      <td>...</td>\n      <td>...</td>\n    </tr>\n    <tr>\n      <th>16417</th>\n      <td>2</td>\n      <td>0</td>\n      <td>2</td>\n      <td>2</td>\n      <td>0</td>\n      <td>0</td>\n      <td>0</td>\n      <td>13</td>\n      <td>2018</td>\n      <td>4</td>\n      <td>2</td>\n      <td>1</td>\n      <td>0</td>\n      <td>0</td>\n      <td>0</td>\n      <td>120.00</td>\n      <td>0</td>\n      <td>1</td>\n    </tr>\n    <tr>\n      <th>2370</th>\n      <td>1</td>\n      <td>0</td>\n      <td>1</td>\n      <td>2</td>\n      <td>0</td>\n      <td>0</td>\n      <td>0</td>\n      <td>12</td>\n      <td>2018</td>\n      <td>5</td>\n      <td>30</td>\n      <td>1</td>\n      <td>0</td>\n      <td>0</td>\n      <td>0</td>\n      <td>97.02</td>\n      <td>0</td>\n      <td>1</td>\n    </tr>\n    <tr>\n      <th>13059</th>\n      <td>2</td>\n      <td>0</td>\n      <td>0</td>\n      <td>2</td>\n      <td>0</td>\n      <td>0</td>\n      <td>1</td>\n      <td>96</td>\n      <td>2018</td>\n      <td>10</td>\n      <td>26</td>\n      <td>1</td>\n      <td>0</td>\n      <td>0</td>\n      <td>0</td>\n      <td>93.96</td>\n      <td>0</td>\n      <td>1</td>\n    </tr>\n    <tr>\n      <th>12901</th>\n      <td>3</td>\n      <td>0</td>\n      <td>1</td>\n      <td>2</td>\n      <td>0</td>\n      <td>0</td>\n      <td>1</td>\n      <td>191</td>\n      <td>2018</td>\n      <td>8</td>\n      <td>22</td>\n      <td>1</td>\n      <td>0</td>\n      <td>0</td>\n      <td>0</td>\n      <td>137.70</td>\n      <td>0</td>\n      <td>1</td>\n    </tr>\n    <tr>\n      <th>14261</th>\n      <td>2</td>\n      <td>0</td>\n      <td>1</td>\n      <td>3</td>\n      <td>1</td>\n      <td>0</td>\n      <td>0</td>\n      <td>123</td>\n      <td>2018</td>\n      <td>9</td>\n      <td>5</td>\n      <td>1</td>\n      <td>0</td>\n      <td>0</td>\n      <td>0</td>\n      <td>118.80</td>\n      <td>1</td>\n      <td>1</td>\n    </tr>\n  </tbody>\n</table>\n<p>4757 rows × 18 columns</p>\n</div>",
      "text/plain": "       no_of_adults  no_of_children  no_of_weekend_nights  no_of_week_nights  \\\n10977             1               0                     1                  3   \n12945             2               0                     2                  4   \n17599             3               0                     2                  5   \n12791             1               0                     1                  2   \n7987              1               0                     1                  4   \n...             ...             ...                   ...                ...   \n16417             2               0                     2                  2   \n2370              1               0                     1                  2   \n13059             2               0                     0                  2   \n12901             3               0                     1                  2   \n14261             2               0                     1                  3   \n\n       type_of_meal_plan  required_car_parking_space  room_type_reserved  \\\n10977                  0                           0                   1   \n12945                  0                           0                   0   \n17599                  0                           0                   1   \n12791                  0                           0                   0   \n7987                   0                           0                   0   \n...                  ...                         ...                 ...   \n16417                  0                           0                   0   \n2370                   0                           0                   0   \n13059                  0                           0                   1   \n12901                  0                           0                   1   \n14261                  1                           0                   0   \n\n       lead_time  arrival_year  arrival_month  arrival_date  \\\n10977         32          2018             10            10   \n12945        224          2018              9             4   \n17599        149          2018              6             4   \n12791        114          2018              7             1   \n7987         113          2018              9             7   \n...          ...           ...            ...           ...   \n16417         13          2018              4             2   \n2370          12          2018              5            30   \n13059         96          2018             10            26   \n12901        191          2018              8            22   \n14261        123          2018              9             5   \n\n       market_segment_type  repeated_guest  no_of_previous_cancellations  \\\n10977                    1               0                             0   \n12945                    1               0                             0   \n17599                    1               0                             0   \n12791                    0               0                             0   \n7987                     1               0                             0   \n...                    ...             ...                           ...   \n16417                    1               0                             0   \n2370                     1               0                             0   \n13059                    1               0                             0   \n12901                    1               0                             0   \n14261                    1               0                             0   \n\n       no_of_previous_bookings_not_canceled  avg_price_per_room  \\\n10977                                     0              148.28   \n12945                                     0              114.90   \n17599                                     0              144.14   \n12791                                     0               75.00   \n7987                                      0              118.80   \n...                                     ...                 ...   \n16417                                     0              120.00   \n2370                                      0               97.02   \n13059                                     0               93.96   \n12901                                     0              137.70   \n14261                                     0              118.80   \n\n       no_of_special_requests  booking_status  \n10977                       0               1  \n12945                       1               1  \n17599                       1               1  \n12791                       0               1  \n7987                        0               1  \n...                       ...             ...  \n16417                       0               1  \n2370                        0               1  \n13059                       0               1  \n12901                       0               1  \n14261                       1               1  \n\n[4757 rows x 18 columns]"
     },
     "execution_count": 10,
     "metadata": {},
     "output_type": "execute_result"
    }
   ],
   "source": [
    "previous_cat = [\"no_of_previous_bookings_not_canceled\", \"no_of_previous_cancellations\"]\n",
    "\n",
    "num_bins = 10\n",
    "\n",
    "for col in previous_cat:\n",
    "    \n",
    "    axes = not_cancel[[col]].hist(bins = num_bins, alpha = 0.5, label=\"Cancelled\")[0][0]\n",
    "    axes.hist(not_cancel[[col]], bins = num_bins, alpha = 0.5, label=\"Not-Cancel\")\n",
    "\n",
    "    plt.legend(loc = \"upper right\")\n",
    "    plt.title(\"Histogram of \" + col + \" by Cancellation\")\n",
    "    plt.xlabel(col)\n",
    "    plt.ylabel(\"count\")\n",
    "    plt.show()\n",
    "\n",
    "cancel"
   ]
  },
  {
   "cell_type": "code",
   "execution_count": 11,
   "metadata": {},
   "outputs": [
    {
     "name": "stdout",
     "output_type": "stream",
     "text": [
      "Percent repeat guest: 2.543249017850989\n"
     ]
    }
   ],
   "source": [
    "print(\"Percent repeat guest:\", train_df.query(\"repeated_guest==1\").shape[0] / train_df.shape[0] * 100)\n"
   ]
  },
  {
   "cell_type": "markdown",
   "metadata": {},
   "source": [
    "Looking at the histograms of previous bookings cancelled versus not cancelled, we see that the vast majority of customers have not either cancelled or completed a previous reservation. Checking the repeated guests feature, we can see that only 2.5% of guests are repeat customers. Therefore it makes sense that there wouldn't be many examples where previous bookings were cancelled or not-cancelled. It could be useful to drop these features as they generally don't add much information, but they could be very useful in the few cases where they are not zero. "
   ]
  },
  {
   "cell_type": "markdown",
   "metadata": {},
   "source": [
    "## Initial Observations\n",
    "\n",
    "From the exploratory data analysis, it is clear that there are many potential ways to categorize and process the data. For many of the features you could argue that they should considered numerical, ordinal, or categorical. For example, number of adults could be considered as simple numerical data, ordinal data since it is discrete and there is a clear relationship between each value (difference between 2 and 1 is one person), or even categorical if you don't think the relationship between different numbers of adults matters. There is also some ambiguity with the data in its current form. The type of meal plan or room type feature could be ordinal but it's impossible to conclude that without knowing more about the hotel's systems.  The number of special requests also is hard to interpret because not all special requests are the same and reducing them all to a count loses some specificity. \n",
    "\n",
    "Overall, it seems like it will be important to try different methods of pre-processing in order to ensure that the most accurate representation of the given data is found."
   ]
  },
  {
   "cell_type": "markdown",
   "metadata": {},
   "source": [
    "## Assessment Metrics\n",
    "\n",
    "Since the class imbalance is not extreme, accuracy will still be a good indicator of model performance. However, we think precision will be the most important metric to optimize. If the model predicts that a customer is likely to cancel their reservation, the hotel will likely try to re-book the room in preparation for a cancellation. If this prediction was a false positive and the customer does not cancel, the hotel will have a double-booked room which will be costly from both a customer satisfaction and economic standpoint. The customer won't be happy about not getting their desired room and the hotle will likely have to compensate the customer for the inconvenience."
   ]
  },
  {
   "cell_type": "markdown",
   "metadata": {},
   "source": [
    "<br><br>"
   ]
  },
  {
   "cell_type": "markdown",
   "metadata": {},
   "source": [
    "## (Optional) 4. Feature engineering <a name=\"4\"></a>\n",
    "<hr>\n",
    "rubric={points:1}\n",
    "\n",
    "**Your tasks:**\n",
    "\n",
    "1. Carry out feature engineering. In other words, extract new features relevant for the problem and work with your new feature set in the following exercises. You may have to go back and forth between feature engineering and preprocessing. "
   ]
  },
  {
   "cell_type": "markdown",
   "metadata": {},
   "source": [
    "<br><br>"
   ]
  },
  {
   "cell_type": "markdown",
   "metadata": {},
   "source": [
    "## 5. Preprocessing and transformations <a name=\"5\"></a>\n",
    "<hr>\n",
    "rubric={points:10}\n",
    "\n",
    "**Your tasks:**\n",
    "\n",
    "1. Identify different feature types and the transformations you would apply on each feature type. \n",
    "2. Define a column transformer, if necessary. "
   ]
  },
  {
   "cell_type": "markdown",
   "metadata": {},
   "source": [
    "Numeric features: lead time, average room price, number previous cancellations, number previous bookings not cancelled\n",
    "* Transformations: Scaling\n",
    "* Notes: lead time, previous cancellations, and previous bookings all take integer values but can take a wide range of values so we decided to treat them as numeric and scale  \n",
    "\n",
    "Categorical features: type of meal plan, room type reserved, market segment type, arrival year, arrival month, arrival date\n",
    "* Transformations: One Hot Encoding\n",
    "\n",
    "Ordinal features: number adults, number children, number of weekend nights, number of week nights, number special requests\n",
    "* Transformations: None (Data is already in an ordinal form)\n",
    "* Notes: Chose ordinal for these feature because there is generally limited values that appear in data and there is a clear relationship between consecutive numbers within the data\n",
    "\n",
    "Binary features: repeated guest, required parking space\n",
    "* Transformations: None (Data already in binary form)"
   ]
  },
  {
   "cell_type": "code",
   "execution_count": 12,
   "metadata": {},
   "outputs": [],
   "source": [
    "numeric_feats = [\"lead_time\", \"avg_price_per_room\", \"no_of_previous_cancellations\", \"no_of_previous_bookings_not_canceled\"]\n",
    "categorical_feats = [\"type_of_meal_plan\", \"room_type_reserved\", \"market_segment_type\", \"arrival_year\", \"arrival_month\", \"arrival_date\"]\n",
    "pass_through = [\"repeated_guest\", \"required_car_parking_space\", \"no_of_adults\", \"no_of_children\", \"no_of_weekend_nights\", \"no_of_week_nights\", \"no_of_special_requests\"]\n",
    "target = [\"booking_status\"]"
   ]
  },
  {
   "cell_type": "code",
   "execution_count": 13,
   "metadata": {},
   "outputs": [
    {
     "name": "stdout",
     "output_type": "stream",
     "text": [
      "(14509, 17)\n"
     ]
    },
    {
     "data": {
      "text/html": "<div>\n<style scoped>\n    .dataframe tbody tr th:only-of-type {\n        vertical-align: middle;\n    }\n\n    .dataframe tbody tr th {\n        vertical-align: top;\n    }\n\n    .dataframe thead th {\n        text-align: right;\n    }\n</style>\n<table border=\"1\" class=\"dataframe\">\n  <thead>\n    <tr style=\"text-align: right;\">\n      <th></th>\n      <th>no_of_adults</th>\n      <th>no_of_children</th>\n      <th>no_of_weekend_nights</th>\n      <th>no_of_week_nights</th>\n      <th>type_of_meal_plan</th>\n      <th>required_car_parking_space</th>\n      <th>room_type_reserved</th>\n      <th>lead_time</th>\n      <th>arrival_year</th>\n      <th>arrival_month</th>\n      <th>arrival_date</th>\n      <th>market_segment_type</th>\n      <th>repeated_guest</th>\n      <th>no_of_previous_cancellations</th>\n      <th>no_of_previous_bookings_not_canceled</th>\n      <th>avg_price_per_room</th>\n      <th>no_of_special_requests</th>\n    </tr>\n  </thead>\n  <tbody>\n    <tr>\n      <th>12617</th>\n      <td>2</td>\n      <td>0</td>\n      <td>0</td>\n      <td>2</td>\n      <td>0</td>\n      <td>0</td>\n      <td>0</td>\n      <td>0</td>\n      <td>2017</td>\n      <td>9</td>\n      <td>8</td>\n      <td>0</td>\n      <td>0</td>\n      <td>0</td>\n      <td>0</td>\n      <td>102.40</td>\n      <td>1</td>\n    </tr>\n    <tr>\n      <th>15898</th>\n      <td>2</td>\n      <td>0</td>\n      <td>2</td>\n      <td>1</td>\n      <td>0</td>\n      <td>0</td>\n      <td>0</td>\n      <td>109</td>\n      <td>2018</td>\n      <td>4</td>\n      <td>30</td>\n      <td>1</td>\n      <td>0</td>\n      <td>0</td>\n      <td>0</td>\n      <td>77.03</td>\n      <td>1</td>\n    </tr>\n    <tr>\n      <th>10977</th>\n      <td>1</td>\n      <td>0</td>\n      <td>1</td>\n      <td>3</td>\n      <td>0</td>\n      <td>0</td>\n      <td>1</td>\n      <td>32</td>\n      <td>2018</td>\n      <td>10</td>\n      <td>10</td>\n      <td>1</td>\n      <td>0</td>\n      <td>0</td>\n      <td>0</td>\n      <td>148.28</td>\n      <td>0</td>\n    </tr>\n    <tr>\n      <th>972</th>\n      <td>2</td>\n      <td>1</td>\n      <td>2</td>\n      <td>2</td>\n      <td>0</td>\n      <td>0</td>\n      <td>0</td>\n      <td>0</td>\n      <td>2018</td>\n      <td>10</td>\n      <td>21</td>\n      <td>1</td>\n      <td>0</td>\n      <td>0</td>\n      <td>0</td>\n      <td>106.25</td>\n      <td>2</td>\n    </tr>\n    <tr>\n      <th>1176</th>\n      <td>1</td>\n      <td>0</td>\n      <td>1</td>\n      <td>1</td>\n      <td>1</td>\n      <td>0</td>\n      <td>0</td>\n      <td>89</td>\n      <td>2018</td>\n      <td>8</td>\n      <td>29</td>\n      <td>1</td>\n      <td>0</td>\n      <td>0</td>\n      <td>0</td>\n      <td>116.10</td>\n      <td>0</td>\n    </tr>\n  </tbody>\n</table>\n</div>",
      "text/plain": "       no_of_adults  no_of_children  no_of_weekend_nights  no_of_week_nights  \\\n12617             2               0                     0                  2   \n15898             2               0                     2                  1   \n10977             1               0                     1                  3   \n972               2               1                     2                  2   \n1176              1               0                     1                  1   \n\n       type_of_meal_plan  required_car_parking_space  room_type_reserved  \\\n12617                  0                           0                   0   \n15898                  0                           0                   0   \n10977                  0                           0                   1   \n972                    0                           0                   0   \n1176                   1                           0                   0   \n\n       lead_time  arrival_year  arrival_month  arrival_date  \\\n12617          0          2017              9             8   \n15898        109          2018              4            30   \n10977         32          2018             10            10   \n972            0          2018             10            21   \n1176          89          2018              8            29   \n\n       market_segment_type  repeated_guest  no_of_previous_cancellations  \\\n12617                    0               0                             0   \n15898                    1               0                             0   \n10977                    1               0                             0   \n972                      1               0                             0   \n1176                     1               0                             0   \n\n       no_of_previous_bookings_not_canceled  avg_price_per_room  \\\n12617                                     0              102.40   \n15898                                     0               77.03   \n10977                                     0              148.28   \n972                                       0              106.25   \n1176                                      0              116.10   \n\n       no_of_special_requests  \n12617                       1  \n15898                       1  \n10977                       0  \n972                         2  \n1176                        0  "
     },
     "execution_count": 13,
     "metadata": {},
     "output_type": "execute_result"
    }
   ],
   "source": [
    "X_train = train_df.drop(columns=target)\n",
    "print(X_train.shape)\n",
    "X_train.head()"
   ]
  },
  {
   "cell_type": "code",
   "execution_count": 14,
   "metadata": {},
   "outputs": [
    {
     "data": {
      "text/html": "<div>\n<style scoped>\n    .dataframe tbody tr th:only-of-type {\n        vertical-align: middle;\n    }\n\n    .dataframe tbody tr th {\n        vertical-align: top;\n    }\n\n    .dataframe thead th {\n        text-align: right;\n    }\n</style>\n<table border=\"1\" class=\"dataframe\">\n  <thead>\n    <tr style=\"text-align: right;\">\n      <th></th>\n      <th>booking_status</th>\n    </tr>\n  </thead>\n  <tbody>\n    <tr>\n      <th>12617</th>\n      <td>0</td>\n    </tr>\n    <tr>\n      <th>15898</th>\n      <td>0</td>\n    </tr>\n    <tr>\n      <th>10977</th>\n      <td>1</td>\n    </tr>\n    <tr>\n      <th>972</th>\n      <td>0</td>\n    </tr>\n    <tr>\n      <th>1176</th>\n      <td>0</td>\n    </tr>\n  </tbody>\n</table>\n</div>",
      "text/plain": "       booking_status\n12617               0\n15898               0\n10977               1\n972                 0\n1176                0"
     },
     "execution_count": 14,
     "metadata": {},
     "output_type": "execute_result"
    }
   ],
   "source": [
    "X_test = test_df.drop(columns=target)\n",
    "y_train = train_df[target]\n",
    "y_test = test_df[target]\n",
    "y_train.head()"
   ]
  },
  {
   "cell_type": "code",
   "execution_count": 15,
   "metadata": {},
   "outputs": [],
   "source": [
    "preprocessor = make_column_transformer(\n",
    "    (StandardScaler(), numeric_feats),\n",
    "    (OneHotEncoder(drop=\"if_binary\", handle_unknown=\"ignore\"),  categorical_feats),\n",
    "    (\"passthrough\", pass_through)\n",
    ")"
   ]
  },
  {
   "cell_type": "code",
   "execution_count": 16,
   "metadata": {},
   "outputs": [
    {
     "name": "stdout",
     "output_type": "stream",
     "text": [
      "(14509, 71)\n",
      "71\n"
     ]
    },
    {
     "data": {
      "text/plain": "['lead_time',\n 'avg_price_per_room',\n 'no_of_previous_cancellations',\n 'no_of_previous_bookings_not_canceled',\n 'type_of_meal_plan_0',\n 'type_of_meal_plan_1',\n 'type_of_meal_plan_2',\n 'type_of_meal_plan_3',\n 'room_type_reserved_0',\n 'room_type_reserved_1']"
     },
     "execution_count": 16,
     "metadata": {},
     "output_type": "execute_result"
    }
   ],
   "source": [
    "#Code for creating dataframe from transformed X modified from HW3 Implementation\n",
    "X_train_trans = preprocessor.fit_transform(X_train)\n",
    "print(X_train_trans.shape)\n",
    "\n",
    "column_names = (numeric_feats + preprocessor.named_transformers_[\"onehotencoder\"].get_feature_names_out().tolist() + pass_through)\n",
    "print(len(column_names))\n",
    "column_names[:10]"
   ]
  },
  {
   "cell_type": "code",
   "execution_count": 17,
   "metadata": {},
   "outputs": [
    {
     "data": {
      "text/html": "<div>\n<style scoped>\n    .dataframe tbody tr th:only-of-type {\n        vertical-align: middle;\n    }\n\n    .dataframe tbody tr th {\n        vertical-align: top;\n    }\n\n    .dataframe thead th {\n        text-align: right;\n    }\n</style>\n<table border=\"1\" class=\"dataframe\">\n  <thead>\n    <tr style=\"text-align: right;\">\n      <th></th>\n      <th>lead_time</th>\n      <th>avg_price_per_room</th>\n      <th>no_of_previous_cancellations</th>\n      <th>no_of_previous_bookings_not_canceled</th>\n      <th>type_of_meal_plan_0</th>\n      <th>type_of_meal_plan_1</th>\n      <th>type_of_meal_plan_2</th>\n      <th>type_of_meal_plan_3</th>\n      <th>room_type_reserved_0</th>\n      <th>room_type_reserved_1</th>\n      <th>...</th>\n      <th>arrival_date_29</th>\n      <th>arrival_date_30</th>\n      <th>arrival_date_31</th>\n      <th>repeated_guest</th>\n      <th>required_car_parking_space</th>\n      <th>no_of_adults</th>\n      <th>no_of_children</th>\n      <th>no_of_weekend_nights</th>\n      <th>no_of_week_nights</th>\n      <th>no_of_special_requests</th>\n    </tr>\n  </thead>\n  <tbody>\n    <tr>\n      <th>0</th>\n      <td>-0.983375</td>\n      <td>-0.028757</td>\n      <td>-0.062201</td>\n      <td>-0.089271</td>\n      <td>1.0</td>\n      <td>0.0</td>\n      <td>0.0</td>\n      <td>0.0</td>\n      <td>1.0</td>\n      <td>0.0</td>\n      <td>...</td>\n      <td>0.0</td>\n      <td>0.0</td>\n      <td>0.0</td>\n      <td>0.0</td>\n      <td>0.0</td>\n      <td>2.0</td>\n      <td>0.0</td>\n      <td>0.0</td>\n      <td>2.0</td>\n      <td>1.0</td>\n    </tr>\n    <tr>\n      <th>1</th>\n      <td>0.266537</td>\n      <td>-0.740755</td>\n      <td>-0.062201</td>\n      <td>-0.089271</td>\n      <td>1.0</td>\n      <td>0.0</td>\n      <td>0.0</td>\n      <td>0.0</td>\n      <td>1.0</td>\n      <td>0.0</td>\n      <td>...</td>\n      <td>0.0</td>\n      <td>1.0</td>\n      <td>0.0</td>\n      <td>0.0</td>\n      <td>0.0</td>\n      <td>2.0</td>\n      <td>0.0</td>\n      <td>2.0</td>\n      <td>1.0</td>\n      <td>1.0</td>\n    </tr>\n    <tr>\n      <th>2</th>\n      <td>-0.616429</td>\n      <td>1.258847</td>\n      <td>-0.062201</td>\n      <td>-0.089271</td>\n      <td>1.0</td>\n      <td>0.0</td>\n      <td>0.0</td>\n      <td>0.0</td>\n      <td>0.0</td>\n      <td>1.0</td>\n      <td>...</td>\n      <td>0.0</td>\n      <td>0.0</td>\n      <td>0.0</td>\n      <td>0.0</td>\n      <td>0.0</td>\n      <td>1.0</td>\n      <td>0.0</td>\n      <td>1.0</td>\n      <td>3.0</td>\n      <td>0.0</td>\n    </tr>\n    <tr>\n      <th>3</th>\n      <td>-0.983375</td>\n      <td>0.079292</td>\n      <td>-0.062201</td>\n      <td>-0.089271</td>\n      <td>1.0</td>\n      <td>0.0</td>\n      <td>0.0</td>\n      <td>0.0</td>\n      <td>1.0</td>\n      <td>0.0</td>\n      <td>...</td>\n      <td>0.0</td>\n      <td>0.0</td>\n      <td>0.0</td>\n      <td>0.0</td>\n      <td>0.0</td>\n      <td>2.0</td>\n      <td>1.0</td>\n      <td>2.0</td>\n      <td>2.0</td>\n      <td>2.0</td>\n    </tr>\n    <tr>\n      <th>4</th>\n      <td>0.037195</td>\n      <td>0.355728</td>\n      <td>-0.062201</td>\n      <td>-0.089271</td>\n      <td>0.0</td>\n      <td>1.0</td>\n      <td>0.0</td>\n      <td>0.0</td>\n      <td>1.0</td>\n      <td>0.0</td>\n      <td>...</td>\n      <td>1.0</td>\n      <td>0.0</td>\n      <td>0.0</td>\n      <td>0.0</td>\n      <td>0.0</td>\n      <td>1.0</td>\n      <td>0.0</td>\n      <td>1.0</td>\n      <td>1.0</td>\n      <td>0.0</td>\n    </tr>\n  </tbody>\n</table>\n<p>5 rows × 71 columns</p>\n</div>",
      "text/plain": "   lead_time  avg_price_per_room  no_of_previous_cancellations  \\\n0  -0.983375           -0.028757                     -0.062201   \n1   0.266537           -0.740755                     -0.062201   \n2  -0.616429            1.258847                     -0.062201   \n3  -0.983375            0.079292                     -0.062201   \n4   0.037195            0.355728                     -0.062201   \n\n   no_of_previous_bookings_not_canceled  type_of_meal_plan_0  \\\n0                             -0.089271                  1.0   \n1                             -0.089271                  1.0   \n2                             -0.089271                  1.0   \n3                             -0.089271                  1.0   \n4                             -0.089271                  0.0   \n\n   type_of_meal_plan_1  type_of_meal_plan_2  type_of_meal_plan_3  \\\n0                  0.0                  0.0                  0.0   \n1                  0.0                  0.0                  0.0   \n2                  0.0                  0.0                  0.0   \n3                  0.0                  0.0                  0.0   \n4                  1.0                  0.0                  0.0   \n\n   room_type_reserved_0  room_type_reserved_1  ...  arrival_date_29  \\\n0                   1.0                   0.0  ...              0.0   \n1                   1.0                   0.0  ...              0.0   \n2                   0.0                   1.0  ...              0.0   \n3                   1.0                   0.0  ...              0.0   \n4                   1.0                   0.0  ...              1.0   \n\n   arrival_date_30  arrival_date_31  repeated_guest  \\\n0              0.0              0.0             0.0   \n1              1.0              0.0             0.0   \n2              0.0              0.0             0.0   \n3              0.0              0.0             0.0   \n4              0.0              0.0             0.0   \n\n   required_car_parking_space  no_of_adults  no_of_children  \\\n0                         0.0           2.0             0.0   \n1                         0.0           2.0             0.0   \n2                         0.0           1.0             0.0   \n3                         0.0           2.0             1.0   \n4                         0.0           1.0             0.0   \n\n   no_of_weekend_nights  no_of_week_nights  no_of_special_requests  \n0                   0.0                2.0                     1.0  \n1                   2.0                1.0                     1.0  \n2                   1.0                3.0                     0.0  \n3                   2.0                2.0                     2.0  \n4                   1.0                1.0                     0.0  \n\n[5 rows x 71 columns]"
     },
     "execution_count": 17,
     "metadata": {},
     "output_type": "execute_result"
    }
   ],
   "source": [
    "X_train_trans_df = pd.DataFrame(X_train_trans.toarray(), columns=column_names)\n",
    "X_train_trans_df.head()"
   ]
  },
  {
   "cell_type": "markdown",
   "metadata": {},
   "source": [
    "<br><br>"
   ]
  },
  {
   "cell_type": "markdown",
   "metadata": {},
   "source": [
    "## 6. Baseline model <a name=\"6\"></a>\n",
    "<hr>\n",
    "\n",
    "rubric={points:2}\n",
    "\n",
    "**Your tasks:**\n",
    "1. Try `scikit-learn`'s baseline model and report results."
   ]
  },
  {
   "cell_type": "code",
   "execution_count": 52,
   "metadata": {},
   "outputs": [],
   "source": [
    "#From lecture 3\n",
    "def mean_std_cross_val_scores(model, X_train, y_train, **kwargs):\n",
    "    \"\"\"\n",
    "    Returns mean and std of cross validation\n",
    "    \"\"\"\n",
    "    scores = cross_validate(model, X_train, y_train, **kwargs)\n",
    "\n",
    "    mean_scores = pd.DataFrame(scores).mean()\n",
    "    std_scores = pd.DataFrame(scores).std()\n",
    "    out_col = []\n",
    "\n",
    "    for i in range(len(mean_scores)):\n",
    "        out_col.append((f\"%0.4f (+/- %0.4f)\" % (mean_scores[i], std_scores[i])))\n",
    "\n",
    "    return pd.Series(data=out_col, index=mean_scores.index)"
   ]
  },
  {
   "cell_type": "code",
   "execution_count": 53,
   "metadata": {},
   "outputs": [],
   "source": [
    "results = {}\n",
    "#Including f1 and recall just for reference even though they are not our key metrics\n",
    "scoring_metrics = [\"accuracy\",\"precision\", \"recall\", \"f1\" ]"
   ]
  },
  {
   "cell_type": "code",
   "execution_count": 54,
   "metadata": {},
   "outputs": [
    {
     "name": "stderr",
     "output_type": "stream",
     "text": [
      "/Users/bradychurch/miniconda3/envs/cpsc330/lib/python3.10/site-packages/sklearn/metrics/_classification.py:1334: UndefinedMetricWarning: Precision is ill-defined and being set to 0.0 due to no predicted samples. Use `zero_division` parameter to control this behavior.\n",
      "  _warn_prf(average, modifier, msg_start, len(result))\n",
      "/Users/bradychurch/miniconda3/envs/cpsc330/lib/python3.10/site-packages/sklearn/metrics/_classification.py:1334: UndefinedMetricWarning: Precision is ill-defined and being set to 0.0 due to no predicted samples. Use `zero_division` parameter to control this behavior.\n",
      "  _warn_prf(average, modifier, msg_start, len(result))\n",
      "/Users/bradychurch/miniconda3/envs/cpsc330/lib/python3.10/site-packages/sklearn/metrics/_classification.py:1334: UndefinedMetricWarning: Precision is ill-defined and being set to 0.0 due to no predicted samples. Use `zero_division` parameter to control this behavior.\n",
      "  _warn_prf(average, modifier, msg_start, len(result))\n",
      "/Users/bradychurch/miniconda3/envs/cpsc330/lib/python3.10/site-packages/sklearn/metrics/_classification.py:1334: UndefinedMetricWarning: Precision is ill-defined and being set to 0.0 due to no predicted samples. Use `zero_division` parameter to control this behavior.\n",
      "  _warn_prf(average, modifier, msg_start, len(result))\n",
      "/Users/bradychurch/miniconda3/envs/cpsc330/lib/python3.10/site-packages/sklearn/metrics/_classification.py:1334: UndefinedMetricWarning: Precision is ill-defined and being set to 0.0 due to no predicted samples. Use `zero_division` parameter to control this behavior.\n",
      "  _warn_prf(average, modifier, msg_start, len(result))\n",
      "/Users/bradychurch/miniconda3/envs/cpsc330/lib/python3.10/site-packages/sklearn/metrics/_classification.py:1334: UndefinedMetricWarning: Precision is ill-defined and being set to 0.0 due to no predicted samples. Use `zero_division` parameter to control this behavior.\n",
      "  _warn_prf(average, modifier, msg_start, len(result))\n",
      "/Users/bradychurch/miniconda3/envs/cpsc330/lib/python3.10/site-packages/sklearn/metrics/_classification.py:1334: UndefinedMetricWarning: Precision is ill-defined and being set to 0.0 due to no predicted samples. Use `zero_division` parameter to control this behavior.\n",
      "  _warn_prf(average, modifier, msg_start, len(result))\n",
      "/Users/bradychurch/miniconda3/envs/cpsc330/lib/python3.10/site-packages/sklearn/metrics/_classification.py:1334: UndefinedMetricWarning: Precision is ill-defined and being set to 0.0 due to no predicted samples. Use `zero_division` parameter to control this behavior.\n",
      "  _warn_prf(average, modifier, msg_start, len(result))\n",
      "/Users/bradychurch/miniconda3/envs/cpsc330/lib/python3.10/site-packages/sklearn/metrics/_classification.py:1334: UndefinedMetricWarning: Precision is ill-defined and being set to 0.0 due to no predicted samples. Use `zero_division` parameter to control this behavior.\n",
      "  _warn_prf(average, modifier, msg_start, len(result))\n",
      "/Users/bradychurch/miniconda3/envs/cpsc330/lib/python3.10/site-packages/sklearn/metrics/_classification.py:1334: UndefinedMetricWarning: Precision is ill-defined and being set to 0.0 due to no predicted samples. Use `zero_division` parameter to control this behavior.\n",
      "  _warn_prf(average, modifier, msg_start, len(result))\n",
      "/Users/bradychurch/miniconda3/envs/cpsc330/lib/python3.10/site-packages/sklearn/metrics/_classification.py:1334: UndefinedMetricWarning: Precision is ill-defined and being set to 0.0 due to no predicted samples. Use `zero_division` parameter to control this behavior.\n",
      "  _warn_prf(average, modifier, msg_start, len(result))\n",
      "/Users/bradychurch/miniconda3/envs/cpsc330/lib/python3.10/site-packages/sklearn/metrics/_classification.py:1334: UndefinedMetricWarning: Precision is ill-defined and being set to 0.0 due to no predicted samples. Use `zero_division` parameter to control this behavior.\n",
      "  _warn_prf(average, modifier, msg_start, len(result))\n",
      "/Users/bradychurch/miniconda3/envs/cpsc330/lib/python3.10/site-packages/sklearn/metrics/_classification.py:1334: UndefinedMetricWarning: Precision is ill-defined and being set to 0.0 due to no predicted samples. Use `zero_division` parameter to control this behavior.\n",
      "  _warn_prf(average, modifier, msg_start, len(result))\n",
      "/Users/bradychurch/miniconda3/envs/cpsc330/lib/python3.10/site-packages/sklearn/metrics/_classification.py:1334: UndefinedMetricWarning: Precision is ill-defined and being set to 0.0 due to no predicted samples. Use `zero_division` parameter to control this behavior.\n",
      "  _warn_prf(average, modifier, msg_start, len(result))\n",
      "/Users/bradychurch/miniconda3/envs/cpsc330/lib/python3.10/site-packages/sklearn/metrics/_classification.py:1334: UndefinedMetricWarning: Precision is ill-defined and being set to 0.0 due to no predicted samples. Use `zero_division` parameter to control this behavior.\n",
      "  _warn_prf(average, modifier, msg_start, len(result))\n",
      "/Users/bradychurch/miniconda3/envs/cpsc330/lib/python3.10/site-packages/sklearn/metrics/_classification.py:1334: UndefinedMetricWarning: Precision is ill-defined and being set to 0.0 due to no predicted samples. Use `zero_division` parameter to control this behavior.\n",
      "  _warn_prf(average, modifier, msg_start, len(result))\n",
      "/Users/bradychurch/miniconda3/envs/cpsc330/lib/python3.10/site-packages/sklearn/metrics/_classification.py:1334: UndefinedMetricWarning: Precision is ill-defined and being set to 0.0 due to no predicted samples. Use `zero_division` parameter to control this behavior.\n",
      "  _warn_prf(average, modifier, msg_start, len(result))\n",
      "/Users/bradychurch/miniconda3/envs/cpsc330/lib/python3.10/site-packages/sklearn/metrics/_classification.py:1334: UndefinedMetricWarning: Precision is ill-defined and being set to 0.0 due to no predicted samples. Use `zero_division` parameter to control this behavior.\n",
      "  _warn_prf(average, modifier, msg_start, len(result))\n",
      "/Users/bradychurch/miniconda3/envs/cpsc330/lib/python3.10/site-packages/sklearn/metrics/_classification.py:1334: UndefinedMetricWarning: Precision is ill-defined and being set to 0.0 due to no predicted samples. Use `zero_division` parameter to control this behavior.\n",
      "  _warn_prf(average, modifier, msg_start, len(result))\n",
      "/Users/bradychurch/miniconda3/envs/cpsc330/lib/python3.10/site-packages/sklearn/metrics/_classification.py:1334: UndefinedMetricWarning: Precision is ill-defined and being set to 0.0 due to no predicted samples. Use `zero_division` parameter to control this behavior.\n",
      "  _warn_prf(average, modifier, msg_start, len(result))\n"
     ]
    },
    {
     "data": {
      "text/html": "<div>\n<style scoped>\n    .dataframe tbody tr th:only-of-type {\n        vertical-align: middle;\n    }\n\n    .dataframe tbody tr th {\n        vertical-align: top;\n    }\n\n    .dataframe thead th {\n        text-align: right;\n    }\n</style>\n<table border=\"1\" class=\"dataframe\">\n  <thead>\n    <tr style=\"text-align: right;\">\n      <th></th>\n      <th>Dummy Classifier</th>\n    </tr>\n  </thead>\n  <tbody>\n    <tr>\n      <th>fit_time</th>\n      <td>0.0314 (+/- 0.0123)</td>\n    </tr>\n    <tr>\n      <th>score_time</th>\n      <td>0.0135 (+/- 0.0037)</td>\n    </tr>\n    <tr>\n      <th>test_accuracy</th>\n      <td>0.6721 (+/- 0.0003)</td>\n    </tr>\n    <tr>\n      <th>train_accuracy</th>\n      <td>0.6721 (+/- 0.0000)</td>\n    </tr>\n    <tr>\n      <th>test_precision</th>\n      <td>0.0000 (+/- 0.0000)</td>\n    </tr>\n    <tr>\n      <th>train_precision</th>\n      <td>0.0000 (+/- 0.0000)</td>\n    </tr>\n    <tr>\n      <th>test_recall</th>\n      <td>0.0000 (+/- 0.0000)</td>\n    </tr>\n    <tr>\n      <th>train_recall</th>\n      <td>0.0000 (+/- 0.0000)</td>\n    </tr>\n    <tr>\n      <th>test_f1</th>\n      <td>0.0000 (+/- 0.0000)</td>\n    </tr>\n    <tr>\n      <th>train_f1</th>\n      <td>0.0000 (+/- 0.0000)</td>\n    </tr>\n  </tbody>\n</table>\n</div>",
      "text/plain": "                    Dummy Classifier\nfit_time         0.0314 (+/- 0.0123)\nscore_time       0.0135 (+/- 0.0037)\ntest_accuracy    0.6721 (+/- 0.0003)\ntrain_accuracy   0.6721 (+/- 0.0000)\ntest_precision   0.0000 (+/- 0.0000)\ntrain_precision  0.0000 (+/- 0.0000)\ntest_recall      0.0000 (+/- 0.0000)\ntrain_recall     0.0000 (+/- 0.0000)\ntest_f1          0.0000 (+/- 0.0000)\ntrain_f1         0.0000 (+/- 0.0000)"
     },
     "execution_count": 54,
     "metadata": {},
     "output_type": "execute_result"
    }
   ],
   "source": [
    "dummy_pipe = make_pipeline(preprocessor, DummyClassifier(strategy=\"most_frequent\"))\n",
    "\n",
    "results[\"Dummy Classifier\"] = mean_std_cross_val_scores(dummy_pipe, X_train, y_train, cv=10, scoring= scoring_metrics, return_train_score=True)\n",
    "pd.DataFrame(results)"
   ]
  },
  {
   "cell_type": "markdown",
   "metadata": {},
   "source": [
    "Running $10$ fold cross validation on the dummy classifier yielded average test and validation score results of $0.673$."
   ]
  },
  {
   "cell_type": "markdown",
   "metadata": {},
   "source": [
    "<br><br>"
   ]
  },
  {
   "cell_type": "markdown",
   "metadata": {},
   "source": [
    "## 7. Linear models <a name=\"7\"></a>\n",
    "<hr>\n",
    "rubric={points:12}\n",
    "\n",
    "**Your tasks:**\n",
    "\n",
    "1. Try logistic regression as a first real attempt. \n",
    "2. Carry out hyperparameter tuning to explore different values for the complexity hyperparameter `C`. \n",
    "3. Report validation scores along with standard deviation. \n",
    "4. Summarize your results."
   ]
  },
  {
   "cell_type": "code",
   "execution_count": 55,
   "metadata": {},
   "outputs": [
    {
     "data": {
      "text/html": "<div>\n<style scoped>\n    .dataframe tbody tr th:only-of-type {\n        vertical-align: middle;\n    }\n\n    .dataframe tbody tr th {\n        vertical-align: top;\n    }\n\n    .dataframe thead th {\n        text-align: right;\n    }\n</style>\n<table border=\"1\" class=\"dataframe\">\n  <thead>\n    <tr style=\"text-align: right;\">\n      <th></th>\n      <th>Dummy Classifier</th>\n      <th>Default LogReg</th>\n    </tr>\n  </thead>\n  <tbody>\n    <tr>\n      <th>fit_time</th>\n      <td>0.0314 (+/- 0.0123)</td>\n      <td>0.2373 (+/- 0.0182)</td>\n    </tr>\n    <tr>\n      <th>score_time</th>\n      <td>0.0135 (+/- 0.0037)</td>\n      <td>0.0131 (+/- 0.0008)</td>\n    </tr>\n    <tr>\n      <th>test_accuracy</th>\n      <td>0.6721 (+/- 0.0003)</td>\n      <td>0.8070 (+/- 0.0102)</td>\n    </tr>\n    <tr>\n      <th>train_accuracy</th>\n      <td>0.6721 (+/- 0.0000)</td>\n      <td>0.8106 (+/- 0.0028)</td>\n    </tr>\n    <tr>\n      <th>test_precision</th>\n      <td>0.0000 (+/- 0.0000)</td>\n      <td>0.7372 (+/- 0.0201)</td>\n    </tr>\n    <tr>\n      <th>train_precision</th>\n      <td>0.0000 (+/- 0.0000)</td>\n      <td>0.7425 (+/- 0.0034)</td>\n    </tr>\n    <tr>\n      <th>test_recall</th>\n      <td>0.0000 (+/- 0.0000)</td>\n      <td>0.6397 (+/- 0.0196)</td>\n    </tr>\n    <tr>\n      <th>train_recall</th>\n      <td>0.0000 (+/- 0.0000)</td>\n      <td>0.6464 (+/- 0.0069)</td>\n    </tr>\n    <tr>\n      <th>test_f1</th>\n      <td>0.0000 (+/- 0.0000)</td>\n      <td>0.6849 (+/- 0.0169)</td>\n    </tr>\n    <tr>\n      <th>train_f1</th>\n      <td>0.0000 (+/- 0.0000)</td>\n      <td>0.6911 (+/- 0.0054)</td>\n    </tr>\n  </tbody>\n</table>\n</div>",
      "text/plain": "                    Dummy Classifier       Default LogReg\nfit_time         0.0314 (+/- 0.0123)  0.2373 (+/- 0.0182)\nscore_time       0.0135 (+/- 0.0037)  0.0131 (+/- 0.0008)\ntest_accuracy    0.6721 (+/- 0.0003)  0.8070 (+/- 0.0102)\ntrain_accuracy   0.6721 (+/- 0.0000)  0.8106 (+/- 0.0028)\ntest_precision   0.0000 (+/- 0.0000)  0.7372 (+/- 0.0201)\ntrain_precision  0.0000 (+/- 0.0000)  0.7425 (+/- 0.0034)\ntest_recall      0.0000 (+/- 0.0000)  0.6397 (+/- 0.0196)\ntrain_recall     0.0000 (+/- 0.0000)  0.6464 (+/- 0.0069)\ntest_f1          0.0000 (+/- 0.0000)  0.6849 (+/- 0.0169)\ntrain_f1         0.0000 (+/- 0.0000)  0.6911 (+/- 0.0054)"
     },
     "execution_count": 55,
     "metadata": {},
     "output_type": "execute_result"
    }
   ],
   "source": [
    "lr_pipe = make_pipeline(preprocessor, LogisticRegression(max_iter=1000))\n",
    "\n",
    "results[\"Default LogReg\"] = mean_std_cross_val_scores(lr_pipe, X_train, y_train.values.ravel(),scoring=scoring_metrics, return_train_score=True)\n",
    "pd.DataFrame(results)"
   ]
  },
  {
   "cell_type": "markdown",
   "metadata": {},
   "source": [
    "Using the default hyper parameter C, the mean and standard deviation of the 10 fold cross validation scores are $\\mu_{val} = 0.806$, $\\sigma_{val} = 0.00874$. These are surprisingly good results for a first attempt, so it is important to be diligent in verifying whether any over/under-fitting has occurred. \n",
    "\n",
    "A typical sign of under-fitting is similar, low test and validation score values. The average test score $\\mu_{test} = 0.8086$ and the average validation score presented above are nearly identical. However, they are both high enough that we can fairly confidently rule out the presence of under-fitting phenomena. Further, we can say that this first attempt model is doing a good job of generalizing to unseen data and has suitable complexity for the problem at hand."
   ]
  },
  {
   "cell_type": "markdown",
   "metadata": {},
   "source": [
    "Referencing these baseline linear model results, we can perform hyper-parameter optimization/class-weight optimization to zero-in on a best linear model configuration. Since it is most important for our model to be precise in it's prediction of cancellations (so that the hotel can confidently take steps to account for the cancellation), we should choose \"precision\" as the scoring metric to be maximized. We also want to maintain a similar accuracy score of ~0.80."
   ]
  },
  {
   "cell_type": "code",
   "execution_count": 21,
   "metadata": {},
   "outputs": [
    {
     "name": "stdout",
     "output_type": "stream",
     "text": [
      "Fitting 5 folds for each of 100 candidates, totalling 500 fits\n"
     ]
    },
    {
     "data": {
      "text/html": "<style>#sk-container-id-1 {color: black;background-color: white;}#sk-container-id-1 pre{padding: 0;}#sk-container-id-1 div.sk-toggleable {background-color: white;}#sk-container-id-1 label.sk-toggleable__label {cursor: pointer;display: block;width: 100%;margin-bottom: 0;padding: 0.3em;box-sizing: border-box;text-align: center;}#sk-container-id-1 label.sk-toggleable__label-arrow:before {content: \"▸\";float: left;margin-right: 0.25em;color: #696969;}#sk-container-id-1 label.sk-toggleable__label-arrow:hover:before {color: black;}#sk-container-id-1 div.sk-estimator:hover label.sk-toggleable__label-arrow:before {color: black;}#sk-container-id-1 div.sk-toggleable__content {max-height: 0;max-width: 0;overflow: hidden;text-align: left;background-color: #f0f8ff;}#sk-container-id-1 div.sk-toggleable__content pre {margin: 0.2em;color: black;border-radius: 0.25em;background-color: #f0f8ff;}#sk-container-id-1 input.sk-toggleable__control:checked~div.sk-toggleable__content {max-height: 200px;max-width: 100%;overflow: auto;}#sk-container-id-1 input.sk-toggleable__control:checked~label.sk-toggleable__label-arrow:before {content: \"▾\";}#sk-container-id-1 div.sk-estimator input.sk-toggleable__control:checked~label.sk-toggleable__label {background-color: #d4ebff;}#sk-container-id-1 div.sk-label input.sk-toggleable__control:checked~label.sk-toggleable__label {background-color: #d4ebff;}#sk-container-id-1 input.sk-hidden--visually {border: 0;clip: rect(1px 1px 1px 1px);clip: rect(1px, 1px, 1px, 1px);height: 1px;margin: -1px;overflow: hidden;padding: 0;position: absolute;width: 1px;}#sk-container-id-1 div.sk-estimator {font-family: monospace;background-color: #f0f8ff;border: 1px dotted black;border-radius: 0.25em;box-sizing: border-box;margin-bottom: 0.5em;}#sk-container-id-1 div.sk-estimator:hover {background-color: #d4ebff;}#sk-container-id-1 div.sk-parallel-item::after {content: \"\";width: 100%;border-bottom: 1px solid gray;flex-grow: 1;}#sk-container-id-1 div.sk-label:hover label.sk-toggleable__label {background-color: #d4ebff;}#sk-container-id-1 div.sk-serial::before {content: \"\";position: absolute;border-left: 1px solid gray;box-sizing: border-box;top: 0;bottom: 0;left: 50%;z-index: 0;}#sk-container-id-1 div.sk-serial {display: flex;flex-direction: column;align-items: center;background-color: white;padding-right: 0.2em;padding-left: 0.2em;position: relative;}#sk-container-id-1 div.sk-item {position: relative;z-index: 1;}#sk-container-id-1 div.sk-parallel {display: flex;align-items: stretch;justify-content: center;background-color: white;position: relative;}#sk-container-id-1 div.sk-item::before, #sk-container-id-1 div.sk-parallel-item::before {content: \"\";position: absolute;border-left: 1px solid gray;box-sizing: border-box;top: 0;bottom: 0;left: 50%;z-index: -1;}#sk-container-id-1 div.sk-parallel-item {display: flex;flex-direction: column;z-index: 1;position: relative;background-color: white;}#sk-container-id-1 div.sk-parallel-item:first-child::after {align-self: flex-end;width: 50%;}#sk-container-id-1 div.sk-parallel-item:last-child::after {align-self: flex-start;width: 50%;}#sk-container-id-1 div.sk-parallel-item:only-child::after {width: 0;}#sk-container-id-1 div.sk-dashed-wrapped {border: 1px dashed gray;margin: 0 0.4em 0.5em 0.4em;box-sizing: border-box;padding-bottom: 0.4em;background-color: white;}#sk-container-id-1 div.sk-label label {font-family: monospace;font-weight: bold;display: inline-block;line-height: 1.2em;}#sk-container-id-1 div.sk-label-container {text-align: center;}#sk-container-id-1 div.sk-container {/* jupyter's `normalize.less` sets `[hidden] { display: none; }` but bootstrap.min.css set `[hidden] { display: none !important; }` so we also need the `!important` here to be able to override the default hidden behavior on the sphinx rendered scikit-learn.org. See: https://github.com/scikit-learn/scikit-learn/issues/21755 */display: inline-block !important;position: relative;}#sk-container-id-1 div.sk-text-repr-fallback {display: none;}</style><div id=\"sk-container-id-1\" class=\"sk-top-container\"><div class=\"sk-text-repr-fallback\"><pre>RandomizedSearchCV(estimator=Pipeline(steps=[(&#x27;columntransformer&#x27;,\n                                              ColumnTransformer(transformers=[(&#x27;standardscaler&#x27;,\n                                                                               StandardScaler(),\n                                                                               [&#x27;lead_time&#x27;,\n                                                                                &#x27;avg_price_per_room&#x27;,\n                                                                                &#x27;no_of_previous_cancellations&#x27;,\n                                                                                &#x27;no_of_previous_bookings_not_canceled&#x27;]),\n                                                                              (&#x27;onehotencoder&#x27;,\n                                                                               OneHotEncoder(drop=&#x27;if_binary&#x27;,\n                                                                                             handle_unknown=&#x27;ignore&#x27;),\n                                                                               [&#x27;type_of_meal_plan&#x27;,\n                                                                                &#x27;room_type_reserv...\n                                                                                &#x27;no_of_week_nights&#x27;,\n                                                                                &#x27;no_of_special_requests&#x27;])])),\n                                             (&#x27;logisticregression&#x27;,\n                                              LogisticRegression(max_iter=1000))]),\n                   n_iter=100, n_jobs=-1,\n                   param_distributions={&#x27;logisticregression__C&#x27;: &lt;scipy.stats._distn_infrastructure.rv_continuous_frozen object at 0x164682860&gt;,\n                                        &#x27;logisticregression__class_weight&#x27;: [None,\n                                                                             {0: 1,\n                                                                              1: 3},\n                                                                             &#x27;balanced&#x27;]},\n                   random_state=123, scoring=&#x27;precision&#x27;, verbose=1)</pre><b>In a Jupyter environment, please rerun this cell to show the HTML representation or trust the notebook. <br />On GitHub, the HTML representation is unable to render, please try loading this page with nbviewer.org.</b></div><div class=\"sk-container\" hidden><div class=\"sk-item sk-dashed-wrapped\"><div class=\"sk-label-container\"><div class=\"sk-label sk-toggleable\"><input class=\"sk-toggleable__control sk-hidden--visually\" id=\"sk-estimator-id-1\" type=\"checkbox\" ><label for=\"sk-estimator-id-1\" class=\"sk-toggleable__label sk-toggleable__label-arrow\">RandomizedSearchCV</label><div class=\"sk-toggleable__content\"><pre>RandomizedSearchCV(estimator=Pipeline(steps=[(&#x27;columntransformer&#x27;,\n                                              ColumnTransformer(transformers=[(&#x27;standardscaler&#x27;,\n                                                                               StandardScaler(),\n                                                                               [&#x27;lead_time&#x27;,\n                                                                                &#x27;avg_price_per_room&#x27;,\n                                                                                &#x27;no_of_previous_cancellations&#x27;,\n                                                                                &#x27;no_of_previous_bookings_not_canceled&#x27;]),\n                                                                              (&#x27;onehotencoder&#x27;,\n                                                                               OneHotEncoder(drop=&#x27;if_binary&#x27;,\n                                                                                             handle_unknown=&#x27;ignore&#x27;),\n                                                                               [&#x27;type_of_meal_plan&#x27;,\n                                                                                &#x27;room_type_reserv...\n                                                                                &#x27;no_of_week_nights&#x27;,\n                                                                                &#x27;no_of_special_requests&#x27;])])),\n                                             (&#x27;logisticregression&#x27;,\n                                              LogisticRegression(max_iter=1000))]),\n                   n_iter=100, n_jobs=-1,\n                   param_distributions={&#x27;logisticregression__C&#x27;: &lt;scipy.stats._distn_infrastructure.rv_continuous_frozen object at 0x164682860&gt;,\n                                        &#x27;logisticregression__class_weight&#x27;: [None,\n                                                                             {0: 1,\n                                                                              1: 3},\n                                                                             &#x27;balanced&#x27;]},\n                   random_state=123, scoring=&#x27;precision&#x27;, verbose=1)</pre></div></div></div><div class=\"sk-parallel\"><div class=\"sk-parallel-item\"><div class=\"sk-item\"><div class=\"sk-label-container\"><div class=\"sk-label sk-toggleable\"><input class=\"sk-toggleable__control sk-hidden--visually\" id=\"sk-estimator-id-2\" type=\"checkbox\" ><label for=\"sk-estimator-id-2\" class=\"sk-toggleable__label sk-toggleable__label-arrow\">estimator: Pipeline</label><div class=\"sk-toggleable__content\"><pre>Pipeline(steps=[(&#x27;columntransformer&#x27;,\n                 ColumnTransformer(transformers=[(&#x27;standardscaler&#x27;,\n                                                  StandardScaler(),\n                                                  [&#x27;lead_time&#x27;,\n                                                   &#x27;avg_price_per_room&#x27;,\n                                                   &#x27;no_of_previous_cancellations&#x27;,\n                                                   &#x27;no_of_previous_bookings_not_canceled&#x27;]),\n                                                 (&#x27;onehotencoder&#x27;,\n                                                  OneHotEncoder(drop=&#x27;if_binary&#x27;,\n                                                                handle_unknown=&#x27;ignore&#x27;),\n                                                  [&#x27;type_of_meal_plan&#x27;,\n                                                   &#x27;room_type_reserved&#x27;,\n                                                   &#x27;market_segment_type&#x27;,\n                                                   &#x27;arrival_year&#x27;,\n                                                   &#x27;arrival_month&#x27;,\n                                                   &#x27;arrival_date&#x27;]),\n                                                 (&#x27;passthrough&#x27;, &#x27;passthrough&#x27;,\n                                                  [&#x27;repeated_guest&#x27;,\n                                                   &#x27;required_car_parking_space&#x27;,\n                                                   &#x27;no_of_adults&#x27;,\n                                                   &#x27;no_of_children&#x27;,\n                                                   &#x27;no_of_weekend_nights&#x27;,\n                                                   &#x27;no_of_week_nights&#x27;,\n                                                   &#x27;no_of_special_requests&#x27;])])),\n                (&#x27;logisticregression&#x27;, LogisticRegression(max_iter=1000))])</pre></div></div></div><div class=\"sk-serial\"><div class=\"sk-item\"><div class=\"sk-serial\"><div class=\"sk-item sk-dashed-wrapped\"><div class=\"sk-label-container\"><div class=\"sk-label sk-toggleable\"><input class=\"sk-toggleable__control sk-hidden--visually\" id=\"sk-estimator-id-3\" type=\"checkbox\" ><label for=\"sk-estimator-id-3\" class=\"sk-toggleable__label sk-toggleable__label-arrow\">columntransformer: ColumnTransformer</label><div class=\"sk-toggleable__content\"><pre>ColumnTransformer(transformers=[(&#x27;standardscaler&#x27;, StandardScaler(),\n                                 [&#x27;lead_time&#x27;, &#x27;avg_price_per_room&#x27;,\n                                  &#x27;no_of_previous_cancellations&#x27;,\n                                  &#x27;no_of_previous_bookings_not_canceled&#x27;]),\n                                (&#x27;onehotencoder&#x27;,\n                                 OneHotEncoder(drop=&#x27;if_binary&#x27;,\n                                               handle_unknown=&#x27;ignore&#x27;),\n                                 [&#x27;type_of_meal_plan&#x27;, &#x27;room_type_reserved&#x27;,\n                                  &#x27;market_segment_type&#x27;, &#x27;arrival_year&#x27;,\n                                  &#x27;arrival_month&#x27;, &#x27;arrival_date&#x27;]),\n                                (&#x27;passthrough&#x27;, &#x27;passthrough&#x27;,\n                                 [&#x27;repeated_guest&#x27;,\n                                  &#x27;required_car_parking_space&#x27;, &#x27;no_of_adults&#x27;,\n                                  &#x27;no_of_children&#x27;, &#x27;no_of_weekend_nights&#x27;,\n                                  &#x27;no_of_week_nights&#x27;,\n                                  &#x27;no_of_special_requests&#x27;])])</pre></div></div></div><div class=\"sk-parallel\"><div class=\"sk-parallel-item\"><div class=\"sk-item\"><div class=\"sk-label-container\"><div class=\"sk-label sk-toggleable\"><input class=\"sk-toggleable__control sk-hidden--visually\" id=\"sk-estimator-id-4\" type=\"checkbox\" ><label for=\"sk-estimator-id-4\" class=\"sk-toggleable__label sk-toggleable__label-arrow\">standardscaler</label><div class=\"sk-toggleable__content\"><pre>[&#x27;lead_time&#x27;, &#x27;avg_price_per_room&#x27;, &#x27;no_of_previous_cancellations&#x27;, &#x27;no_of_previous_bookings_not_canceled&#x27;]</pre></div></div></div><div class=\"sk-serial\"><div class=\"sk-item\"><div class=\"sk-estimator sk-toggleable\"><input class=\"sk-toggleable__control sk-hidden--visually\" id=\"sk-estimator-id-5\" type=\"checkbox\" ><label for=\"sk-estimator-id-5\" class=\"sk-toggleable__label sk-toggleable__label-arrow\">StandardScaler</label><div class=\"sk-toggleable__content\"><pre>StandardScaler()</pre></div></div></div></div></div></div><div class=\"sk-parallel-item\"><div class=\"sk-item\"><div class=\"sk-label-container\"><div class=\"sk-label sk-toggleable\"><input class=\"sk-toggleable__control sk-hidden--visually\" id=\"sk-estimator-id-6\" type=\"checkbox\" ><label for=\"sk-estimator-id-6\" class=\"sk-toggleable__label sk-toggleable__label-arrow\">onehotencoder</label><div class=\"sk-toggleable__content\"><pre>[&#x27;type_of_meal_plan&#x27;, &#x27;room_type_reserved&#x27;, &#x27;market_segment_type&#x27;, &#x27;arrival_year&#x27;, &#x27;arrival_month&#x27;, &#x27;arrival_date&#x27;]</pre></div></div></div><div class=\"sk-serial\"><div class=\"sk-item\"><div class=\"sk-estimator sk-toggleable\"><input class=\"sk-toggleable__control sk-hidden--visually\" id=\"sk-estimator-id-7\" type=\"checkbox\" ><label for=\"sk-estimator-id-7\" class=\"sk-toggleable__label sk-toggleable__label-arrow\">OneHotEncoder</label><div class=\"sk-toggleable__content\"><pre>OneHotEncoder(drop=&#x27;if_binary&#x27;, handle_unknown=&#x27;ignore&#x27;)</pre></div></div></div></div></div></div><div class=\"sk-parallel-item\"><div class=\"sk-item\"><div class=\"sk-label-container\"><div class=\"sk-label sk-toggleable\"><input class=\"sk-toggleable__control sk-hidden--visually\" id=\"sk-estimator-id-8\" type=\"checkbox\" ><label for=\"sk-estimator-id-8\" class=\"sk-toggleable__label sk-toggleable__label-arrow\">passthrough</label><div class=\"sk-toggleable__content\"><pre>[&#x27;repeated_guest&#x27;, &#x27;required_car_parking_space&#x27;, &#x27;no_of_adults&#x27;, &#x27;no_of_children&#x27;, &#x27;no_of_weekend_nights&#x27;, &#x27;no_of_week_nights&#x27;, &#x27;no_of_special_requests&#x27;]</pre></div></div></div><div class=\"sk-serial\"><div class=\"sk-item\"><div class=\"sk-estimator sk-toggleable\"><input class=\"sk-toggleable__control sk-hidden--visually\" id=\"sk-estimator-id-9\" type=\"checkbox\" ><label for=\"sk-estimator-id-9\" class=\"sk-toggleable__label sk-toggleable__label-arrow\">passthrough</label><div class=\"sk-toggleable__content\"><pre>passthrough</pre></div></div></div></div></div></div></div></div><div class=\"sk-item\"><div class=\"sk-estimator sk-toggleable\"><input class=\"sk-toggleable__control sk-hidden--visually\" id=\"sk-estimator-id-10\" type=\"checkbox\" ><label for=\"sk-estimator-id-10\" class=\"sk-toggleable__label sk-toggleable__label-arrow\">LogisticRegression</label><div class=\"sk-toggleable__content\"><pre>LogisticRegression(max_iter=1000)</pre></div></div></div></div></div></div></div></div></div></div></div></div>",
      "text/plain": "RandomizedSearchCV(estimator=Pipeline(steps=[('columntransformer',\n                                              ColumnTransformer(transformers=[('standardscaler',\n                                                                               StandardScaler(),\n                                                                               ['lead_time',\n                                                                                'avg_price_per_room',\n                                                                                'no_of_previous_cancellations',\n                                                                                'no_of_previous_bookings_not_canceled']),\n                                                                              ('onehotencoder',\n                                                                               OneHotEncoder(drop='if_binary',\n                                                                                             handle_unknown='ignore'),\n                                                                               ['type_of_meal_plan',\n                                                                                'room_type_reserv...\n                                                                                'no_of_week_nights',\n                                                                                'no_of_special_requests'])])),\n                                             ('logisticregression',\n                                              LogisticRegression(max_iter=1000))]),\n                   n_iter=100, n_jobs=-1,\n                   param_distributions={'logisticregression__C': <scipy.stats._distn_infrastructure.rv_continuous_frozen object at 0x164682860>,\n                                        'logisticregression__class_weight': [None,\n                                                                             {0: 1,\n                                                                              1: 3},\n                                                                             'balanced']},\n                   random_state=123, scoring='precision', verbose=1)"
     },
     "execution_count": 21,
     "metadata": {},
     "output_type": "execute_result"
    }
   ],
   "source": [
    "from scipy.stats import uniform\n",
    "\n",
    "param_dist = {\n",
    "    \"logisticregression__C\": uniform(0.01,10), #1e4\n",
    "    \"logisticregression__class_weight\": [None, {0:1, 1:3}, \"balanced\"],\n",
    "}\n",
    "\n",
    "random_search = RandomizedSearchCV(\n",
    "    lr_pipe, param_dist, scoring=\"precision\", n_iter=100, verbose=1, n_jobs=-1, random_state=123\n",
    ")\n",
    "\n",
    "random_search.fit(X_train, y_train.values.ravel())"
   ]
  },
  {
   "cell_type": "code",
   "execution_count": 22,
   "metadata": {},
   "outputs": [
    {
     "name": "stdout",
     "output_type": "stream",
     "text": [
      "best score: 0.7377209686302566\n",
      "best C and class_weight: {'logisticregression__C': 0.2855138499186016, 'logisticregression__class_weight': None}\n"
     ]
    }
   ],
   "source": [
    "print(\"best score: {s}\".format(s=random_search.best_score_))\n",
    "print(\"best C and class_weight: {c}\".format(c=random_search.best_params_))"
   ]
  },
  {
   "cell_type": "code",
   "execution_count": 51,
   "metadata": {},
   "outputs": [
    {
     "data": {
      "text/html": "<div>\n<style scoped>\n    .dataframe tbody tr th:only-of-type {\n        vertical-align: middle;\n    }\n\n    .dataframe tbody tr th {\n        vertical-align: top;\n    }\n\n    .dataframe thead th {\n        text-align: right;\n    }\n</style>\n<table border=\"1\" class=\"dataframe\">\n  <thead>\n    <tr style=\"text-align: right;\">\n      <th></th>\n      <th>Dummy Classifier</th>\n      <th>Default LogReg</th>\n      <th>Best LogReg</th>\n    </tr>\n  </thead>\n  <tbody>\n    <tr>\n      <th>fit_time</th>\n      <td>0.030 (+/- 0.003)</td>\n      <td>0.241 (+/- 0.017)</td>\n      <td>0.196 (+/- 0.031)</td>\n    </tr>\n    <tr>\n      <th>score_time</th>\n      <td>0.014 (+/- 0.003)</td>\n      <td>0.014 (+/- 0.001)</td>\n      <td>0.014 (+/- 0.000)</td>\n    </tr>\n    <tr>\n      <th>test_accuracy</th>\n      <td>0.672 (+/- 0.000)</td>\n      <td>0.807 (+/- 0.010)</td>\n      <td>0.807 (+/- 0.010)</td>\n    </tr>\n    <tr>\n      <th>train_accuracy</th>\n      <td>0.672 (+/- 0.000)</td>\n      <td>0.811 (+/- 0.003)</td>\n      <td>0.811 (+/- 0.003)</td>\n    </tr>\n    <tr>\n      <th>test_precision</th>\n      <td>0.000 (+/- 0.000)</td>\n      <td>0.737 (+/- 0.020)</td>\n      <td>0.738 (+/- 0.020)</td>\n    </tr>\n    <tr>\n      <th>train_precision</th>\n      <td>0.000 (+/- 0.000)</td>\n      <td>0.742 (+/- 0.003)</td>\n      <td>0.745 (+/- 0.003)</td>\n    </tr>\n    <tr>\n      <th>test_recall</th>\n      <td>0.000 (+/- 0.000)</td>\n      <td>0.640 (+/- 0.020)</td>\n      <td>0.637 (+/- 0.018)</td>\n    </tr>\n    <tr>\n      <th>train_recall</th>\n      <td>0.000 (+/- 0.000)</td>\n      <td>0.646 (+/- 0.007)</td>\n      <td>0.644 (+/- 0.008)</td>\n    </tr>\n    <tr>\n      <th>test_f1</th>\n      <td>0.000 (+/- 0.000)</td>\n      <td>0.685 (+/- 0.017)</td>\n      <td>0.683 (+/- 0.017)</td>\n    </tr>\n    <tr>\n      <th>train_f1</th>\n      <td>0.000 (+/- 0.000)</td>\n      <td>0.691 (+/- 0.005)</td>\n      <td>0.691 (+/- 0.006)</td>\n    </tr>\n  </tbody>\n</table>\n</div>",
      "text/plain": "                  Dummy Classifier     Default LogReg        Best LogReg\nfit_time         0.030 (+/- 0.003)  0.241 (+/- 0.017)  0.196 (+/- 0.031)\nscore_time       0.014 (+/- 0.003)  0.014 (+/- 0.001)  0.014 (+/- 0.000)\ntest_accuracy    0.672 (+/- 0.000)  0.807 (+/- 0.010)  0.807 (+/- 0.010)\ntrain_accuracy   0.672 (+/- 0.000)  0.811 (+/- 0.003)  0.811 (+/- 0.003)\ntest_precision   0.000 (+/- 0.000)  0.737 (+/- 0.020)  0.738 (+/- 0.020)\ntrain_precision  0.000 (+/- 0.000)  0.742 (+/- 0.003)  0.745 (+/- 0.003)\ntest_recall      0.000 (+/- 0.000)  0.640 (+/- 0.020)  0.637 (+/- 0.018)\ntrain_recall     0.000 (+/- 0.000)  0.646 (+/- 0.007)  0.644 (+/- 0.008)\ntest_f1          0.000 (+/- 0.000)  0.685 (+/- 0.017)  0.683 (+/- 0.017)\ntrain_f1         0.000 (+/- 0.000)  0.691 (+/- 0.005)  0.691 (+/- 0.006)"
     },
     "execution_count": 51,
     "metadata": {},
     "output_type": "execute_result"
    }
   ],
   "source": [
    "lr_pipe_best = make_pipeline(preprocessor, LogisticRegression(max_iter=1000, C=random_search.best_params_[\"logisticregression__C\"], \n",
    "                                                              class_weight=random_search.best_params_[\"logisticregression__class_weight\"]))\n",
    "results[\"Best LogReg\"] = mean_std_cross_val_scores(lr_pipe_best, X_train, y_train.values.ravel(), scoring=scoring_metrics, return_train_score=True)\n",
    "pd.DataFrame(results)"
   ]
  },
  {
   "cell_type": "markdown",
   "metadata": {},
   "source": [
    "Comparing original linear model to model with optimized hyper-parameter and class weight."
   ]
  },
  {
   "cell_type": "code",
   "execution_count": 25,
   "metadata": {},
   "outputs": [
    {
     "data": {
      "text/html": "<div>\n<style scoped>\n    .dataframe tbody tr th:only-of-type {\n        vertical-align: middle;\n    }\n\n    .dataframe tbody tr th {\n        vertical-align: top;\n    }\n\n    .dataframe thead th {\n        text-align: right;\n    }\n</style>\n<table border=\"1\" class=\"dataframe\">\n  <thead>\n    <tr style=\"text-align: right;\">\n      <th></th>\n      <th>Original</th>\n      <th>class_weight='None', C=0.2855</th>\n    </tr>\n  </thead>\n  <tbody>\n    <tr>\n      <th>fit_time</th>\n      <td>0.238942</td>\n      <td>0.165777</td>\n    </tr>\n    <tr>\n      <th>score_time</th>\n      <td>0.024928</td>\n      <td>0.023541</td>\n    </tr>\n    <tr>\n      <th>test_accuracy</th>\n      <td>0.807016</td>\n      <td>0.806603</td>\n    </tr>\n    <tr>\n      <th>test_f1</th>\n      <td>0.684864</td>\n      <td>0.683427</td>\n    </tr>\n    <tr>\n      <th>test_recall</th>\n      <td>0.639688</td>\n      <td>0.636746</td>\n    </tr>\n    <tr>\n      <th>test_precision</th>\n      <td>0.737192</td>\n      <td>0.737721</td>\n    </tr>\n    <tr>\n      <th>test_roc_auc</th>\n      <td>0.872934</td>\n      <td>0.872885</td>\n    </tr>\n    <tr>\n      <th>test_average_precision</th>\n      <td>0.776930</td>\n      <td>0.776774</td>\n    </tr>\n  </tbody>\n</table>\n</div>",
      "text/plain": "                        Original  class_weight='None', C=0.2855\nfit_time                0.238942                       0.165777\nscore_time              0.024928                       0.023541\ntest_accuracy           0.807016                       0.806603\ntest_f1                 0.684864                       0.683427\ntest_recall             0.639688                       0.636746\ntest_precision          0.737192                       0.737721\ntest_roc_auc            0.872934                       0.872885\ntest_average_precision  0.776930                       0.776774"
     },
     "execution_count": 25,
     "metadata": {},
     "output_type": "execute_result"
    }
   ],
   "source": [
    "comp_dict = {}\n",
    "\n",
    "lr_pipe_orig = make_pipeline(preprocessor, LogisticRegression(max_iter=1000))\n",
    "\n",
    "orig_scores = cross_validate(lr_pipe_orig, X_train, y_train.values.ravel(), scoring=scoring)\n",
    "\n",
    "lr_pipe_best = make_pipeline(preprocessor, LogisticRegression(max_iter=1000, C=random_search.best_params_[\"logisticregression__C\"], class_weight=random_search.best_params_[\"logisticregression__class_weight\"]))\n",
    "bal_scores = cross_validate(lr_pipe_best, X_train, y_train.values.ravel(), scoring=scoring)\n",
    "\n",
    "\n",
    "comp_dict = {\n",
    "    \"Original\": pd.DataFrame(orig_scores).mean().tolist(),\n",
    "    \"class_weight='None', C=0.2855\": pd.DataFrame(bal_scores).mean().tolist(),\n",
    "}\n",
    "\n",
    "pd.DataFrame(comp_dict, index=bal_scores.keys())"
   ]
  },
  {
   "cell_type": "markdown",
   "metadata": {},
   "source": [
    "After performing hyper-parameter optimization using randomized search, it was determined that the best performing hyper-parameter value was $C = 0.2855$ and the best performing class weight was `None`. Using these optimized parameters yielded slight improvements in the average validation accuracy, and significant improvements in the average precision. The best average accuracy is 0.8062, the best average precision is 0.7367, and the standard deviation of validation accuracy scores is $\\sigma_{acc} = 0.00862$."
   ]
  },
  {
   "cell_type": "markdown",
   "metadata": {},
   "source": [
    "<br><br>"
   ]
  },
  {
   "cell_type": "markdown",
   "metadata": {},
   "source": [
    "## 8. Different classifiers <a name=\"8\"></a>\n",
    "<hr>\n",
    "rubric={points:15}\n",
    "\n",
    "**Your tasks:**\n",
    "1. Try at least 3 other models aside from logistic regression. At least one of these models should be a tree-based ensemble model (e.g., lgbm, random forest, xgboost). \n",
    "2. Summarize your results. Can you beat logistic regression? "
   ]
  },
  {
   "cell_type": "markdown",
   "metadata": {},
   "source": [
    "### SVM Model"
   ]
  },
  {
   "cell_type": "code",
   "execution_count": 29,
   "metadata": {},
   "outputs": [
    {
     "data": {
      "text/html": "<div>\n<style scoped>\n    .dataframe tbody tr th:only-of-type {\n        vertical-align: middle;\n    }\n\n    .dataframe tbody tr th {\n        vertical-align: top;\n    }\n\n    .dataframe thead th {\n        text-align: right;\n    }\n</style>\n<table border=\"1\" class=\"dataframe\">\n  <thead>\n    <tr style=\"text-align: right;\">\n      <th></th>\n      <th>0</th>\n    </tr>\n  </thead>\n  <tbody>\n    <tr>\n      <th>fit_time</th>\n      <td>4.997203</td>\n    </tr>\n    <tr>\n      <th>score_time</th>\n      <td>1.546210</td>\n    </tr>\n    <tr>\n      <th>test_accuracy</th>\n      <td>0.842719</td>\n    </tr>\n    <tr>\n      <th>train_accuracy</th>\n      <td>0.854435</td>\n    </tr>\n    <tr>\n      <th>test_f1</th>\n      <td>0.744222</td>\n    </tr>\n    <tr>\n      <th>train_f1</th>\n      <td>0.763679</td>\n    </tr>\n    <tr>\n      <th>test_recall</th>\n      <td>0.698128</td>\n    </tr>\n    <tr>\n      <th>train_recall</th>\n      <td>0.717364</td>\n    </tr>\n    <tr>\n      <th>test_precision</th>\n      <td>0.797348</td>\n    </tr>\n    <tr>\n      <th>train_precision</th>\n      <td>0.816401</td>\n    </tr>\n    <tr>\n      <th>test_roc_auc</th>\n      <td>0.900987</td>\n    </tr>\n    <tr>\n      <th>train_roc_auc</th>\n      <td>0.915424</td>\n    </tr>\n    <tr>\n      <th>test_average_precision</th>\n      <td>0.833235</td>\n    </tr>\n    <tr>\n      <th>train_average_precision</th>\n      <td>0.857380</td>\n    </tr>\n  </tbody>\n</table>\n</div>",
      "text/plain": "                                0\nfit_time                 4.997203\nscore_time               1.546210\ntest_accuracy            0.842719\ntrain_accuracy           0.854435\ntest_f1                  0.744222\ntrain_f1                 0.763679\ntest_recall              0.698128\ntrain_recall             0.717364\ntest_precision           0.797348\ntrain_precision          0.816401\ntest_roc_auc             0.900987\ntrain_roc_auc            0.915424\ntest_average_precision   0.833235\ntrain_average_precision  0.857380"
     },
     "execution_count": 29,
     "metadata": {},
     "output_type": "execute_result"
    }
   ],
   "source": [
    "scoring = [\"accuracy\", \"f1\", \"recall\", \"precision\", \"roc_auc\", \"average_precision\"]\n",
    "\n",
    "svm_pipe = make_pipeline(preprocessor, SVC())\n",
    "result = pd.DataFrame(cross_validate(svm_pipe, X_train, y_train.values.ravel(), scoring=scoring,return_train_score=True))\n",
    "pd.DataFrame(result.mean())"
   ]
  },
  {
   "cell_type": "code",
   "execution_count": null,
   "metadata": {},
   "outputs": [],
   "source": [
    "pd.DataFrame(result.std())"
   ]
  },
  {
   "cell_type": "markdown",
   "metadata": {},
   "source": [
    "The SVM model achieves test and validation accuracy scores of 0.8547 and 0.8412 respectively. These scores are higher than what the linear model was able to achieve. The average precision scores achieved by the SVM are also higher than the linear model at 0.82 and 0.80 for train and test respectively."
   ]
  },
  {
   "cell_type": "code",
   "execution_count": 30,
   "metadata": {},
   "outputs": [],
   "source": [
    "from catboost import CatBoostClassifier\n",
    "\n",
    "pipe_catboost = make_pipeline(\n",
    "    preprocessor, CatBoostClassifier\n",
    ")\n",
    "\n"
   ]
  },
  {
   "cell_type": "markdown",
   "metadata": {},
   "source": [
    "## (Optional) 9. Feature selection <a name=\"9\"></a>\n",
    "<hr>\n",
    "rubric={points:1}\n",
    "\n",
    "**Your tasks:**\n",
    "\n",
    "Make some attempts to select relevant features. You may try `RFECV` or forward selection. Do the results improve with feature selection? Summarize your results. If you see improvements in the results, keep feature selection in your pipeline. If not, you may abandon it in the next exercises. "
   ]
  },
  {
   "cell_type": "markdown",
   "metadata": {},
   "source": [
    "<br><br>"
   ]
  },
  {
   "cell_type": "markdown",
   "metadata": {},
   "source": [
    "## 10. Hyperparameter optimization <a name=\"10\"></a>\n",
    "<hr>\n",
    "rubric={points:15}\n",
    "\n",
    "**Your tasks:**\n",
    "\n",
    "Make some attempts to optimize hyperparameters for the models you've tried and summarize your results. You may pick one of the best performing models from the previous exercise and tune hyperparameters only for that model. You may use `sklearn`'s methods for hyperparameter optimization or fancier Bayesian optimization methods. \n",
    "  - [GridSearchCV](http://scikit-learn.org/stable/modules/generated/sklearn.model_selection.GridSearchCV.html)   \n",
    "  - [RandomizedSearchCV](http://scikit-learn.org/stable/modules/generated/sklearn.model_selection.RandomizedSearchCV.html)\n",
    "  - [scikit-optimize](https://github.com/scikit-optimize/scikit-optimize)"
   ]
  },
  {
   "cell_type": "markdown",
   "metadata": {},
   "source": [
    "<br><br>"
   ]
  },
  {
   "cell_type": "markdown",
   "metadata": {},
   "source": [
    "## 11. Interpretation and feature importances <a name=\"1\"></a>\n",
    "<hr>\n",
    "rubric={points:15}\n",
    "\n",
    "**Your tasks:**\n",
    "\n",
    "1. Use the methods we saw in class (e.g., `eli5`, `shap`) (or any other methods of your choice) to explain feature importances of one of the best performing models. Summarize your observations. "
   ]
  },
  {
   "cell_type": "markdown",
   "metadata": {},
   "source": [
    "<br><br>"
   ]
  },
  {
   "cell_type": "markdown",
   "metadata": {},
   "source": [
    "## 12. Results on the test set <a name=\"12\"></a>\n",
    "<hr>\n",
    "\n",
    "rubric={points:5}\n",
    "\n",
    "**Your tasks:**\n",
    "\n",
    "1. Try your best performing model on the test data and report test scores. \n",
    "2. Do the test scores agree with the validation scores from before? To what extent do you trust your results? Do you think you've had issues with optimization bias? "
   ]
  },
  {
   "cell_type": "markdown",
   "metadata": {},
   "source": [
    "<br><br>"
   ]
  },
  {
   "cell_type": "markdown",
   "metadata": {},
   "source": [
    "## (Optional) 13. Explaining predictions \n",
    "rubric={points:1}\n",
    "\n",
    "**Your tasks**\n",
    "\n",
    "1. Take one or two test predictions and explain them with SHAP force plots.  "
   ]
  },
  {
   "cell_type": "markdown",
   "metadata": {},
   "source": [
    "<br><br>"
   ]
  },
  {
   "cell_type": "markdown",
   "metadata": {},
   "source": [
    "## 14. Summary of results <a name=\"13\"></a>\n",
    "<hr>\n",
    "rubric={points:10}\n",
    "\n",
    "**Your tasks:**\n",
    "\n",
    "1. Report your final test score along with the metric you used. \n",
    "2. Write concluding remarks.\n",
    "3. Discuss other ideas that you did not try but could potentially improve the performance/interpretability . "
   ]
  },
  {
   "cell_type": "markdown",
   "metadata": {},
   "source": [
    "<br><br><br><br>"
   ]
  },
  {
   "cell_type": "markdown",
   "metadata": {},
   "source": [
    "## Submission instructions \n",
    "\n",
    "**PLEASE READ:** When you are ready to submit your assignment do the following:\n",
    "\n",
    "1. Run all cells in your notebook to make sure there are no errors by doing `Kernel -> Restart Kernel and Clear All Outputs` and then `Run -> Run All Cells`. \n",
    "2. Notebooks with cell execution numbers out of order or not starting from “1” will have marks deducted. Notebooks without the output displayed may not be graded at all (because we need to see the output in order to grade your work).\n",
    "3. Upload the assignment using Gradescope's drag and drop tool. Check out this [Gradescope Student Guide](https://lthub.ubc.ca/guides/gradescope-student-guide/) if you need help with Gradescope submission. "
   ]
  }
 ],
 "metadata": {
  "language_info": {},
  "orig_nbformat": 3
 },
 "nbformat": 4,
 "nbformat_minor": 4
}